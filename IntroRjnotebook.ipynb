{
 "cells": [
  {
   "cell_type": "markdown",
   "metadata": {
    "collapsed": true
   },
   "source": [
    "![Logo R](Rlogo.png)"
   ]
  },
  {
   "cell_type": "markdown",
   "metadata": {},
   "source": [
    "# <center>BREVE INTRODUZIONE AL LINGUAGGIO R PER L'ANALISI DEI DATI\n",
    "## <center>Alessandria 22 - 24 Novembre 2016\n",
    "<center>Pasquale Scordino"
   ]
  },
  {
   "cell_type": "markdown",
   "metadata": {},
   "source": [
    "### 1. Introduzione\n",
    "[***R***](https://www.r-project.org) è un insieme integrato di risorse software finalizzate alla manipolazione dei dati ai fini matematico statistici. Brevemente di seguito si elencano le caratteristiche più importanti dell'ambiente ***R***:\n",
    " + Manipolazione dati e memorizzazione di oggetti intermedi\n",
    " + Uso di un insieme di operatori per i calcoli su vettori, array, matrici e dataframe\n",
    " + Grande raccolta, ampliabile, integrata e coerente di strumenti per l'analisi dei dati\n",
    " + Risorse grafiche illimitate \n",
    " + Linguaggio di programmazione ben sviluppato, semplice ed efficace\n",
    " \n",
    "***R*** è stato scritto da Ross Ihaka e Robert Gentelman, del Dipartimento di Statistica dell'Università di Auckland, Nuova Zelanda ed è considerato un dialetto del linguaggio statistico ***S*** sviluppato nel 1980 nei *Bell Labs*.\n",
    "\n",
    "***R*** è un ambiente *open source* dove chiunque può contribuire a far accrescere le già numerose funzionalità raccolte nel [*CRAN*](https://cran.r-project.org) *\"The Comprehensive R Archive Network\"*. "
   ]
  },
  {
   "cell_type": "markdown",
   "metadata": {},
   "source": [
    "### 2. I comandi principali di R\n",
    "Di seguito si riportano i principali comandi per la gestione di una sessione di lavoro di ***R***"
   ]
  },
  {
   "cell_type": "code",
   "execution_count": 1,
   "metadata": {
    "collapsed": false
   },
   "outputs": [
    {
     "data": {
      "text/html": [
       "'/media/pasquale/Volume/DocumentiPasquale/LavoroARPA/CorsoIntroR/NotebookR'"
      ],
      "text/latex": [
       "'/media/pasquale/Volume/DocumentiPasquale/LavoroARPA/CorsoIntroR/NotebookR'"
      ],
      "text/markdown": [
       "'/media/pasquale/Volume/DocumentiPasquale/LavoroARPA/CorsoIntroR/NotebookR'"
      ],
      "text/plain": [
       "[1] \"/media/pasquale/Volume/DocumentiPasquale/LavoroARPA/CorsoIntroR/NotebookR\""
      ]
     },
     "metadata": {},
     "output_type": "display_data"
    }
   ],
   "source": [
    "#stampa a monitor il percorso e la directory in cui si sta lavorando (work directory)\n",
    "\n",
    "getwd()"
   ]
  },
  {
   "cell_type": "code",
   "execution_count": 2,
   "metadata": {
    "collapsed": false
   },
   "outputs": [],
   "source": [
    "#permette di settare la work directory\n",
    "\n",
    "#setwd(\"/home/pasquale/Documenti/Coding/R_Elab/ScriptR/LinuxDay2016/NotebookR\")\n",
    "setwd(\"/media/pasquale/Volume/DocumentiPasquale/LavoroARPA/CorsoIntroR/NotebookR\")"
   ]
  },
  {
   "cell_type": "code",
   "execution_count": 3,
   "metadata": {
    "collapsed": false
   },
   "outputs": [
    {
     "data": {
      "text/html": [],
      "text/latex": [],
      "text/markdown": [],
      "text/plain": [
       "character(0)"
      ]
     },
     "metadata": {},
     "output_type": "display_data"
    }
   ],
   "source": [
    "#stampa a schermo gli oggetti presenti nella sessione/spazio di lavoro di R\n",
    "\n",
    "ls()"
   ]
  },
  {
   "cell_type": "code",
   "execution_count": 4,
   "metadata": {
    "collapsed": true
   },
   "outputs": [],
   "source": [
    "#cancella gli oggetti (scalari, vettori, matrici, array, liste, dataframe) presenti nella sessione di lavoro di R\n",
    "\n",
    "rm()\n",
    "\n",
    "#cancella tutti gli oggetti presenti all'interno della sessione di lavoro di R\n",
    "\n",
    "rm(list= ls())"
   ]
  },
  {
   "cell_type": "markdown",
   "metadata": {},
   "source": [
    "Facciamo qualche esercizio: Creiamo due oggetti di ***R*** chiamati *vettori* verifichiamo che ci siano nello spazio di lavoro e salviamo lo spazio di lavoro cosi ottenuto. Cancelliamo i due oggetti e verifichiamo l'effettiva cancellazione, carichiamo lo spazio di lavoro precedentemente salvato e verifichiamo che i due oggetti precedentemente salvati ci siano. Infine stampiamo a video i valori costituenti i vettori, costruiamo un grafico rappresentante il contenuto dei due vettori e calcoleremo delle semplici statistiche su i due vettori."
   ]
  },
  {
   "cell_type": "code",
   "execution_count": 5,
   "metadata": {
    "collapsed": false
   },
   "outputs": [],
   "source": [
    "#creiamo un vettore di nome \"a\" contenente 10 numeri casuali e uno di nome \"b\" con gli stessi numeri \n",
    "#moltiplicati per 2\n",
    "\n",
    "a<- runif(10)\n",
    "b<- a*2 "
   ]
  },
  {
   "cell_type": "code",
   "execution_count": 6,
   "metadata": {
    "collapsed": false
   },
   "outputs": [
    {
     "data": {
      "text/html": [
       "<ol class=list-inline>\n",
       "\t<li>'a'</li>\n",
       "\t<li>'b'</li>\n",
       "</ol>\n"
      ],
      "text/latex": [
       "\\begin{enumerate*}\n",
       "\\item 'a'\n",
       "\\item 'b'\n",
       "\\end{enumerate*}\n"
      ],
      "text/markdown": [
       "1. 'a'\n",
       "2. 'b'\n",
       "\n",
       "\n"
      ],
      "text/plain": [
       "[1] \"a\" \"b\""
      ]
     },
     "metadata": {},
     "output_type": "display_data"
    }
   ],
   "source": [
    "#verifichiamo la presenza dei due oggetti nello spazio di lavoro\n",
    "\n",
    "ls()"
   ]
  },
  {
   "cell_type": "code",
   "execution_count": 7,
   "metadata": {
    "collapsed": false
   },
   "outputs": [
    {
     "data": {
      "text/html": [
       "<ol class=list-inline>\n",
       "\t<li>0.422508236952126</li>\n",
       "\t<li>0.711415668949485</li>\n",
       "\t<li>0.115171578014269</li>\n",
       "\t<li>0.141889642458409</li>\n",
       "\t<li>0.120828835759312</li>\n",
       "\t<li>0.940597214037552</li>\n",
       "\t<li>0.915783472824842</li>\n",
       "\t<li>0.853920701425523</li>\n",
       "\t<li>0.512972858035937</li>\n",
       "\t<li>0.227128456346691</li>\n",
       "</ol>\n"
      ],
      "text/latex": [
       "\\begin{enumerate*}\n",
       "\\item 0.422508236952126\n",
       "\\item 0.711415668949485\n",
       "\\item 0.115171578014269\n",
       "\\item 0.141889642458409\n",
       "\\item 0.120828835759312\n",
       "\\item 0.940597214037552\n",
       "\\item 0.915783472824842\n",
       "\\item 0.853920701425523\n",
       "\\item 0.512972858035937\n",
       "\\item 0.227128456346691\n",
       "\\end{enumerate*}\n"
      ],
      "text/markdown": [
       "1. 0.422508236952126\n",
       "2. 0.711415668949485\n",
       "3. 0.115171578014269\n",
       "4. 0.141889642458409\n",
       "5. 0.120828835759312\n",
       "6. 0.940597214037552\n",
       "7. 0.915783472824842\n",
       "8. 0.853920701425523\n",
       "9. 0.512972858035937\n",
       "10. 0.227128456346691\n",
       "\n",
       "\n"
      ],
      "text/plain": [
       " [1] 0.4225082 0.7114157 0.1151716 0.1418896 0.1208288 0.9405972 0.9157835\n",
       " [8] 0.8539207 0.5129729 0.2271285"
      ]
     },
     "metadata": {},
     "output_type": "display_data"
    },
    {
     "data": {
      "text/html": [
       "<ol class=list-inline>\n",
       "\t<li>0.845016473904252</li>\n",
       "\t<li>1.42283133789897</li>\n",
       "\t<li>0.230343156028539</li>\n",
       "\t<li>0.283779284916818</li>\n",
       "\t<li>0.241657671518624</li>\n",
       "\t<li>1.8811944280751</li>\n",
       "\t<li>1.83156694564968</li>\n",
       "\t<li>1.70784140285105</li>\n",
       "\t<li>1.02594571607187</li>\n",
       "\t<li>0.454256912693381</li>\n",
       "</ol>\n"
      ],
      "text/latex": [
       "\\begin{enumerate*}\n",
       "\\item 0.845016473904252\n",
       "\\item 1.42283133789897\n",
       "\\item 0.230343156028539\n",
       "\\item 0.283779284916818\n",
       "\\item 0.241657671518624\n",
       "\\item 1.8811944280751\n",
       "\\item 1.83156694564968\n",
       "\\item 1.70784140285105\n",
       "\\item 1.02594571607187\n",
       "\\item 0.454256912693381\n",
       "\\end{enumerate*}\n"
      ],
      "text/markdown": [
       "1. 0.845016473904252\n",
       "2. 1.42283133789897\n",
       "3. 0.230343156028539\n",
       "4. 0.283779284916818\n",
       "5. 0.241657671518624\n",
       "6. 1.8811944280751\n",
       "7. 1.83156694564968\n",
       "8. 1.70784140285105\n",
       "9. 1.02594571607187\n",
       "10. 0.454256912693381\n",
       "\n",
       "\n"
      ],
      "text/plain": [
       " [1] 0.8450165 1.4228313 0.2303432 0.2837793 0.2416577 1.8811944 1.8315669\n",
       " [8] 1.7078414 1.0259457 0.4542569"
      ]
     },
     "metadata": {},
     "output_type": "display_data"
    }
   ],
   "source": [
    "a\n",
    "b"
   ]
  },
  {
   "cell_type": "code",
   "execution_count": 8,
   "metadata": {
    "collapsed": true
   },
   "outputs": [],
   "source": [
    "#salviamo lo spazio di lavoro con il nome esempio1.RData. Se non si specifica nulla il salvataggio viene chiesto\n",
    "#alla chiusura di R e se la risposta sarà affermativa verrà salvato in un file nascosto .RData\n",
    "\n",
    "save.image(\"esempio1.RData\")"
   ]
  },
  {
   "cell_type": "code",
   "execution_count": 9,
   "metadata": {
    "collapsed": false
   },
   "outputs": [
    {
     "data": {
      "text/html": [],
      "text/latex": [],
      "text/markdown": [],
      "text/plain": [
       "character(0)"
      ]
     },
     "metadata": {},
     "output_type": "display_data"
    }
   ],
   "source": [
    "#cancelliamo i due oggetti creati precedentemente e verifichiamo che non ci siano nello spazio di lavoro\n",
    "\n",
    "rm(\"a\",\"b\")\n",
    "ls()   "
   ]
  },
  {
   "cell_type": "code",
   "execution_count": 10,
   "metadata": {
    "collapsed": false
   },
   "outputs": [
    {
     "data": {
      "text/html": [
       "<ol class=list-inline>\n",
       "\t<li>'a'</li>\n",
       "\t<li>'b'</li>\n",
       "</ol>\n"
      ],
      "text/latex": [
       "\\begin{enumerate*}\n",
       "\\item 'a'\n",
       "\\item 'b'\n",
       "\\end{enumerate*}\n"
      ],
      "text/markdown": [
       "1. 'a'\n",
       "2. 'b'\n",
       "\n",
       "\n"
      ],
      "text/plain": [
       "[1] \"a\" \"b\""
      ]
     },
     "metadata": {},
     "output_type": "display_data"
    }
   ],
   "source": [
    "#carichiamo una sessione di lavoro di R precedentemente salvata e verifichiamo l'effettiva presenza dei due oggetti\n",
    "\n",
    "load(\"esempio1.RData\")\n",
    "ls()"
   ]
  },
  {
   "cell_type": "code",
   "execution_count": 11,
   "metadata": {
    "collapsed": false
   },
   "outputs": [
    {
     "data": {
      "text/html": [
       "<ol class=list-inline>\n",
       "\t<li>0.422508236952126</li>\n",
       "\t<li>0.711415668949485</li>\n",
       "\t<li>0.115171578014269</li>\n",
       "\t<li>0.141889642458409</li>\n",
       "\t<li>0.120828835759312</li>\n",
       "\t<li>0.940597214037552</li>\n",
       "\t<li>0.915783472824842</li>\n",
       "\t<li>0.853920701425523</li>\n",
       "\t<li>0.512972858035937</li>\n",
       "\t<li>0.227128456346691</li>\n",
       "</ol>\n"
      ],
      "text/latex": [
       "\\begin{enumerate*}\n",
       "\\item 0.422508236952126\n",
       "\\item 0.711415668949485\n",
       "\\item 0.115171578014269\n",
       "\\item 0.141889642458409\n",
       "\\item 0.120828835759312\n",
       "\\item 0.940597214037552\n",
       "\\item 0.915783472824842\n",
       "\\item 0.853920701425523\n",
       "\\item 0.512972858035937\n",
       "\\item 0.227128456346691\n",
       "\\end{enumerate*}\n"
      ],
      "text/markdown": [
       "1. 0.422508236952126\n",
       "2. 0.711415668949485\n",
       "3. 0.115171578014269\n",
       "4. 0.141889642458409\n",
       "5. 0.120828835759312\n",
       "6. 0.940597214037552\n",
       "7. 0.915783472824842\n",
       "8. 0.853920701425523\n",
       "9. 0.512972858035937\n",
       "10. 0.227128456346691\n",
       "\n",
       "\n"
      ],
      "text/plain": [
       " [1] 0.4225082 0.7114157 0.1151716 0.1418896 0.1208288 0.9405972 0.9157835\n",
       " [8] 0.8539207 0.5129729 0.2271285"
      ]
     },
     "metadata": {},
     "output_type": "display_data"
    },
    {
     "data": {
      "text/html": [
       "<ol class=list-inline>\n",
       "\t<li>0.845016473904252</li>\n",
       "\t<li>1.42283133789897</li>\n",
       "\t<li>0.230343156028539</li>\n",
       "\t<li>0.283779284916818</li>\n",
       "\t<li>0.241657671518624</li>\n",
       "\t<li>1.8811944280751</li>\n",
       "\t<li>1.83156694564968</li>\n",
       "\t<li>1.70784140285105</li>\n",
       "\t<li>1.02594571607187</li>\n",
       "\t<li>0.454256912693381</li>\n",
       "</ol>\n"
      ],
      "text/latex": [
       "\\begin{enumerate*}\n",
       "\\item 0.845016473904252\n",
       "\\item 1.42283133789897\n",
       "\\item 0.230343156028539\n",
       "\\item 0.283779284916818\n",
       "\\item 0.241657671518624\n",
       "\\item 1.8811944280751\n",
       "\\item 1.83156694564968\n",
       "\\item 1.70784140285105\n",
       "\\item 1.02594571607187\n",
       "\\item 0.454256912693381\n",
       "\\end{enumerate*}\n"
      ],
      "text/markdown": [
       "1. 0.845016473904252\n",
       "2. 1.42283133789897\n",
       "3. 0.230343156028539\n",
       "4. 0.283779284916818\n",
       "5. 0.241657671518624\n",
       "6. 1.8811944280751\n",
       "7. 1.83156694564968\n",
       "8. 1.70784140285105\n",
       "9. 1.02594571607187\n",
       "10. 0.454256912693381\n",
       "\n",
       "\n"
      ],
      "text/plain": [
       " [1] 0.8450165 1.4228313 0.2303432 0.2837793 0.2416577 1.8811944 1.8315669\n",
       " [8] 1.7078414 1.0259457 0.4542569"
      ]
     },
     "metadata": {},
     "output_type": "display_data"
    },
    {
     "data": {
      "image/png": "[encoded data removed]",
      "text/plain": [
       "Plot with title “Grafico rappresentate i due vettori rossi (a) e blue (b)”"
      ]
     },
     "metadata": {},
     "output_type": "display_data"
    }
   ],
   "source": [
    "#stampa del contenuto dei vettori e relativo grafico\n",
    "\n",
    "a\n",
    "\n",
    "b\n",
    "\n",
    "plot(a, col=\"red\", ylim=range(a,b), ylab=\"Valore dei vettori\",\n",
    "     main=\"Grafico rappresentate i due vettori rossi (a) e blue (b)\")\n",
    "lines(b, col=\"blue\", type=\"p\")"
   ]
  },
  {
   "cell_type": "code",
   "execution_count": 12,
   "metadata": {
    "collapsed": false
   },
   "outputs": [
    {
     "data": {
      "text/plain": [
       "   Min. 1st Qu.  Median    Mean 3rd Qu.    Max. \n",
       " 0.1152  0.1632  0.4677  0.4962  0.8183  0.9406 "
      ]
     },
     "metadata": {},
     "output_type": "display_data"
    },
    {
     "data": {
      "text/plain": [
       "   Min. 1st Qu.  Median    Mean 3rd Qu.    Max. \n",
       " 0.2303  0.3264  0.9355  0.9924  1.6370  1.8810 "
      ]
     },
     "metadata": {},
     "output_type": "display_data"
    }
   ],
   "source": [
    "#funzione che permette di calcolare e visualizzare a video una semplice statistica degli oggetti di R\n",
    "\n",
    "summary(a)\n",
    "summary(b)"
   ]
  },
  {
   "cell_type": "markdown",
   "metadata": {},
   "source": [
    "### 3. Gli oggetti di R"
   ]
  },
  {
   "cell_type": "markdown",
   "metadata": {
    "collapsed": true
   },
   "source": [
    "Come anticipato sopra ***R*** lavora con oggetti chiamati scalari, vettori, matrici, array, liste e dataframe. Nelle righe che seguono prenderemo in esame ognuno di loro facendo degli esempi pratici."
   ]
  },
  {
   "cell_type": "markdown",
   "metadata": {},
   "source": [
    "+ **Scalari**\n",
    " \n",
    "sono i più semplici oggetti di ***R*** in pratica sono delle variabili a cui è stato assegnato un valore. Nelle righe che seguono costruiremo tre scalari *d*, *e* ed *f* di cui *f* sarà la somma dei primi due."
   ]
  },
  {
   "cell_type": "code",
   "execution_count": 13,
   "metadata": {
    "collapsed": true
   },
   "outputs": [],
   "source": [
    "#assegnazione dei valori alle variabili\n",
    "d<- 10\n",
    "e<- 20\n",
    "f<- d+e"
   ]
  },
  {
   "cell_type": "code",
   "execution_count": 14,
   "metadata": {
    "collapsed": false
   },
   "outputs": [
    {
     "data": {
      "text/html": [
       "10"
      ],
      "text/latex": [
       "10"
      ],
      "text/markdown": [
       "10"
      ],
      "text/plain": [
       "[1] 10"
      ]
     },
     "metadata": {},
     "output_type": "display_data"
    },
    {
     "data": {
      "text/html": [
       "20"
      ],
      "text/latex": [
       "20"
      ],
      "text/markdown": [
       "20"
      ],
      "text/plain": [
       "[1] 20"
      ]
     },
     "metadata": {},
     "output_type": "display_data"
    },
    {
     "data": {
      "text/html": [
       "30"
      ],
      "text/latex": [
       "30"
      ],
      "text/markdown": [
       "30"
      ],
      "text/plain": [
       "[1] 30"
      ]
     },
     "metadata": {},
     "output_type": "display_data"
    }
   ],
   "source": [
    "#stampa a video dei valori assegnati alle variabili\n",
    "\n",
    "d\n",
    "\n",
    "e\n",
    "\n",
    "f"
   ]
  },
  {
   "cell_type": "markdown",
   "metadata": {},
   "source": [
    "+ **Vettori**\n",
    "\n",
    "questi oggetti sono gli oggetti fondamentali di ***R*** sono una serie di valori numerici o caratteri/strighe in seguenza sui quali si possono fare una serie di operazioni. La posizione di ogni valore puo andare da $[1]$ a $[n]$. Di seguito faremo qualche esempio."
   ]
  },
  {
   "cell_type": "code",
   "execution_count": 15,
   "metadata": {
    "collapsed": false
   },
   "outputs": [
    {
     "data": {
      "text/html": [
       "<ol class=list-inline>\n",
       "\t<li>27</li>\n",
       "\t<li>33</li>\n",
       "\t<li>54</li>\n",
       "\t<li>66</li>\n",
       "\t<li>22</li>\n",
       "\t<li>25</li>\n",
       "\t<li>76</li>\n",
       "\t<li>87</li>\n",
       "\t<li>69</li>\n",
       "\t<li>12</li>\n",
       "\t<li>6</li>\n",
       "\t<li>87</li>\n",
       "\t<li>9</li>\n",
       "\t<li>99</li>\n",
       "\t<li>33</li>\n",
       "</ol>\n"
      ],
      "text/latex": [
       "\\begin{enumerate*}\n",
       "\\item 27\n",
       "\\item 33\n",
       "\\item 54\n",
       "\\item 66\n",
       "\\item 22\n",
       "\\item 25\n",
       "\\item 76\n",
       "\\item 87\n",
       "\\item 69\n",
       "\\item 12\n",
       "\\item 6\n",
       "\\item 87\n",
       "\\item 9\n",
       "\\item 99\n",
       "\\item 33\n",
       "\\end{enumerate*}\n"
      ],
      "text/markdown": [
       "1. 27\n",
       "2. 33\n",
       "3. 54\n",
       "4. 66\n",
       "5. 22\n",
       "6. 25\n",
       "7. 76\n",
       "8. 87\n",
       "9. 69\n",
       "10. 12\n",
       "11. 6\n",
       "12. 87\n",
       "13. 9\n",
       "14. 99\n",
       "15. 33\n",
       "\n",
       "\n"
      ],
      "text/plain": [
       " [1] 27 33 54 66 22 25 76 87 69 12  6 87  9 99 33"
      ]
     },
     "metadata": {},
     "output_type": "display_data"
    },
    {
     "data": {
      "text/html": [
       "15"
      ],
      "text/latex": [
       "15"
      ],
      "text/markdown": [
       "15"
      ],
      "text/plain": [
       "[1] 15"
      ]
     },
     "metadata": {},
     "output_type": "display_data"
    }
   ],
   "source": [
    "#creazione di un vettore \"x\" e stampa a video, più comando per conoscere di quanti elementi è costituito \n",
    "#il vettore \"x\"\n",
    "\n",
    "x<- c(27,33,54,66,22,25,76,87,69,12,6,87,9,99,33)\n",
    "\n",
    "x\n",
    "\n",
    "length(x)"
   ]
  },
  {
   "cell_type": "code",
   "execution_count": 16,
   "metadata": {
    "collapsed": false
   },
   "outputs": [
    {
     "data": {
      "text/html": [
       "25"
      ],
      "text/latex": [
       "25"
      ],
      "text/markdown": [
       "25"
      ],
      "text/plain": [
       "[1] 25"
      ]
     },
     "metadata": {},
     "output_type": "display_data"
    },
    {
     "data": {
      "text/html": [
       "<ol class=list-inline>\n",
       "\t<li>27</li>\n",
       "\t<li>33</li>\n",
       "\t<li>54</li>\n",
       "</ol>\n"
      ],
      "text/latex": [
       "\\begin{enumerate*}\n",
       "\\item 27\n",
       "\\item 33\n",
       "\\item 54\n",
       "\\end{enumerate*}\n"
      ],
      "text/markdown": [
       "1. 27\n",
       "2. 33\n",
       "3. 54\n",
       "\n",
       "\n"
      ],
      "text/plain": [
       "[1] 27 33 54"
      ]
     },
     "metadata": {},
     "output_type": "display_data"
    }
   ],
   "source": [
    "#estrazione dell'elemento in posizione [n] nel vettore ed estrazione degli elementi dalla posizione 1 alla 3\n",
    "\n",
    "x[6]\n",
    "\n",
    "x[1:3]"
   ]
  },
  {
   "cell_type": "code",
   "execution_count": 17,
   "metadata": {
    "collapsed": false
   },
   "outputs": [
    {
     "data": {
      "text/html": [
       "<ol class=list-inline>\n",
       "\t<li>27</li>\n",
       "\t<li>33</li>\n",
       "\t<li>54</li>\n",
       "\t<li>66</li>\n",
       "\t<li>22</li>\n",
       "\t<li>25</li>\n",
       "\t<li>76</li>\n",
       "\t<li>87</li>\n",
       "\t<li>69</li>\n",
       "\t<li>12</li>\n",
       "\t<li>6</li>\n",
       "\t<li>87</li>\n",
       "\t<li>9</li>\n",
       "\t<li>99</li>\n",
       "\t<li>33</li>\n",
       "</ol>\n"
      ],
      "text/latex": [
       "\\begin{enumerate*}\n",
       "\\item 27\n",
       "\\item 33\n",
       "\\item 54\n",
       "\\item 66\n",
       "\\item 22\n",
       "\\item 25\n",
       "\\item 76\n",
       "\\item 87\n",
       "\\item 69\n",
       "\\item 12\n",
       "\\item 6\n",
       "\\item 87\n",
       "\\item 9\n",
       "\\item 99\n",
       "\\item 33\n",
       "\\end{enumerate*}\n"
      ],
      "text/markdown": [
       "1. 27\n",
       "2. 33\n",
       "3. 54\n",
       "4. 66\n",
       "5. 22\n",
       "6. 25\n",
       "7. 76\n",
       "8. 87\n",
       "9. 69\n",
       "10. 12\n",
       "11. 6\n",
       "12. 87\n",
       "13. 9\n",
       "14. 99\n",
       "15. 33\n",
       "\n",
       "\n"
      ],
      "text/plain": [
       " [1] 27 33 54 66 22 25 76 87 69 12  6 87  9 99 33"
      ]
     },
     "metadata": {},
     "output_type": "display_data"
    },
    {
     "data": {
      "text/html": [
       "<ol class=list-inline>\n",
       "\t<li>27</li>\n",
       "\t<li>33</li>\n",
       "\t<li>54</li>\n",
       "\t<li>66</li>\n",
       "\t<li>22</li>\n",
       "\t<li>25</li>\n",
       "\t<li>76</li>\n",
       "\t<li>87</li>\n",
       "\t<li>69</li>\n",
       "\t<li>12</li>\n",
       "\t<li>6</li>\n",
       "\t<li>87</li>\n",
       "\t<li>9</li>\n",
       "\t<li>99</li>\n",
       "\t<li>33</li>\n",
       "\t<li>1</li>\n",
       "</ol>\n"
      ],
      "text/latex": [
       "\\begin{enumerate*}\n",
       "\\item 27\n",
       "\\item 33\n",
       "\\item 54\n",
       "\\item 66\n",
       "\\item 22\n",
       "\\item 25\n",
       "\\item 76\n",
       "\\item 87\n",
       "\\item 69\n",
       "\\item 12\n",
       "\\item 6\n",
       "\\item 87\n",
       "\\item 9\n",
       "\\item 99\n",
       "\\item 33\n",
       "\\item 1\n",
       "\\end{enumerate*}\n"
      ],
      "text/markdown": [
       "1. 27\n",
       "2. 33\n",
       "3. 54\n",
       "4. 66\n",
       "5. 22\n",
       "6. 25\n",
       "7. 76\n",
       "8. 87\n",
       "9. 69\n",
       "10. 12\n",
       "11. 6\n",
       "12. 87\n",
       "13. 9\n",
       "14. 99\n",
       "15. 33\n",
       "16. 1\n",
       "\n",
       "\n"
      ],
      "text/plain": [
       " [1] 27 33 54 66 22 25 76 87 69 12  6 87  9 99 33  1"
      ]
     },
     "metadata": {},
     "output_type": "display_data"
    },
    {
     "data": {
      "text/html": [
       "<ol class=list-inline>\n",
       "\t<li>27</li>\n",
       "\t<li>0</li>\n",
       "\t<li>54</li>\n",
       "\t<li>66</li>\n",
       "\t<li>22</li>\n",
       "\t<li>25</li>\n",
       "\t<li>76</li>\n",
       "\t<li>87</li>\n",
       "\t<li>69</li>\n",
       "\t<li>12</li>\n",
       "\t<li>6</li>\n",
       "\t<li>87</li>\n",
       "\t<li>9</li>\n",
       "\t<li>99</li>\n",
       "\t<li>33</li>\n",
       "\t<li>1</li>\n",
       "</ol>\n"
      ],
      "text/latex": [
       "\\begin{enumerate*}\n",
       "\\item 27\n",
       "\\item 0\n",
       "\\item 54\n",
       "\\item 66\n",
       "\\item 22\n",
       "\\item 25\n",
       "\\item 76\n",
       "\\item 87\n",
       "\\item 69\n",
       "\\item 12\n",
       "\\item 6\n",
       "\\item 87\n",
       "\\item 9\n",
       "\\item 99\n",
       "\\item 33\n",
       "\\item 1\n",
       "\\end{enumerate*}\n"
      ],
      "text/markdown": [
       "1. 27\n",
       "2. 0\n",
       "3. 54\n",
       "4. 66\n",
       "5. 22\n",
       "6. 25\n",
       "7. 76\n",
       "8. 87\n",
       "9. 69\n",
       "10. 12\n",
       "11. 6\n",
       "12. 87\n",
       "13. 9\n",
       "14. 99\n",
       "15. 33\n",
       "16. 1\n",
       "\n",
       "\n"
      ],
      "text/plain": [
       " [1] 27  0 54 66 22 25 76 87 69 12  6 87  9 99 33  1"
      ]
     },
     "metadata": {},
     "output_type": "display_data"
    },
    {
     "data": {
      "text/html": [
       "<ol class=list-inline>\n",
       "\t<li>1</li>\n",
       "\t<li>2</li>\n",
       "\t<li>3</li>\n",
       "\t<li>66</li>\n",
       "\t<li>22</li>\n",
       "\t<li>25</li>\n",
       "\t<li>76</li>\n",
       "\t<li>87</li>\n",
       "\t<li>69</li>\n",
       "\t<li>12</li>\n",
       "\t<li>6</li>\n",
       "\t<li>87</li>\n",
       "\t<li>9</li>\n",
       "\t<li>99</li>\n",
       "\t<li>33</li>\n",
       "\t<li>1</li>\n",
       "</ol>\n"
      ],
      "text/latex": [
       "\\begin{enumerate*}\n",
       "\\item 1\n",
       "\\item 2\n",
       "\\item 3\n",
       "\\item 66\n",
       "\\item 22\n",
       "\\item 25\n",
       "\\item 76\n",
       "\\item 87\n",
       "\\item 69\n",
       "\\item 12\n",
       "\\item 6\n",
       "\\item 87\n",
       "\\item 9\n",
       "\\item 99\n",
       "\\item 33\n",
       "\\item 1\n",
       "\\end{enumerate*}\n"
      ],
      "text/markdown": [
       "1. 1\n",
       "2. 2\n",
       "3. 3\n",
       "4. 66\n",
       "5. 22\n",
       "6. 25\n",
       "7. 76\n",
       "8. 87\n",
       "9. 69\n",
       "10. 12\n",
       "11. 6\n",
       "12. 87\n",
       "13. 9\n",
       "14. 99\n",
       "15. 33\n",
       "16. 1\n",
       "\n",
       "\n"
      ],
      "text/plain": [
       " [1]  1  2  3 66 22 25 76 87 69 12  6 87  9 99 33  1"
      ]
     },
     "metadata": {},
     "output_type": "display_data"
    },
    {
     "data": {
      "text/html": [
       "<ol class=list-inline>\n",
       "\t<li>4</li>\n",
       "\t<li>2</li>\n",
       "\t<li>4</li>\n",
       "\t<li>66</li>\n",
       "\t<li>4</li>\n",
       "\t<li>25</li>\n",
       "\t<li>76</li>\n",
       "\t<li>87</li>\n",
       "\t<li>69</li>\n",
       "\t<li>12</li>\n",
       "\t<li>6</li>\n",
       "\t<li>87</li>\n",
       "\t<li>9</li>\n",
       "\t<li>99</li>\n",
       "\t<li>33</li>\n",
       "\t<li>1</li>\n",
       "</ol>\n"
      ],
      "text/latex": [
       "\\begin{enumerate*}\n",
       "\\item 4\n",
       "\\item 2\n",
       "\\item 4\n",
       "\\item 66\n",
       "\\item 4\n",
       "\\item 25\n",
       "\\item 76\n",
       "\\item 87\n",
       "\\item 69\n",
       "\\item 12\n",
       "\\item 6\n",
       "\\item 87\n",
       "\\item 9\n",
       "\\item 99\n",
       "\\item 33\n",
       "\\item 1\n",
       "\\end{enumerate*}\n"
      ],
      "text/markdown": [
       "1. 4\n",
       "2. 2\n",
       "3. 4\n",
       "4. 66\n",
       "5. 4\n",
       "6. 25\n",
       "7. 76\n",
       "8. 87\n",
       "9. 69\n",
       "10. 12\n",
       "11. 6\n",
       "12. 87\n",
       "13. 9\n",
       "14. 99\n",
       "15. 33\n",
       "16. 1\n",
       "\n",
       "\n"
      ],
      "text/plain": [
       " [1]  4  2  4 66  4 25 76 87 69 12  6 87  9 99 33  1"
      ]
     },
     "metadata": {},
     "output_type": "display_data"
    },
    {
     "data": {
      "text/html": [
       "<ol class=list-inline>\n",
       "\t<li>4</li>\n",
       "\t<li>2</li>\n",
       "\t<li>4</li>\n",
       "\t<li>66</li>\n",
       "\t<li>4</li>\n",
       "\t<li>25</li>\n",
       "\t<li>76</li>\n",
       "\t<li>87</li>\n",
       "\t<li>69</li>\n",
       "\t<li>12</li>\n",
       "\t<li>6</li>\n",
       "\t<li>87</li>\n",
       "\t<li>9</li>\n",
       "\t<li>99</li>\n",
       "\t<li>33</li>\n",
       "</ol>\n"
      ],
      "text/latex": [
       "\\begin{enumerate*}\n",
       "\\item 4\n",
       "\\item 2\n",
       "\\item 4\n",
       "\\item 66\n",
       "\\item 4\n",
       "\\item 25\n",
       "\\item 76\n",
       "\\item 87\n",
       "\\item 69\n",
       "\\item 12\n",
       "\\item 6\n",
       "\\item 87\n",
       "\\item 9\n",
       "\\item 99\n",
       "\\item 33\n",
       "\\end{enumerate*}\n"
      ],
      "text/markdown": [
       "1. 4\n",
       "2. 2\n",
       "3. 4\n",
       "4. 66\n",
       "5. 4\n",
       "6. 25\n",
       "7. 76\n",
       "8. 87\n",
       "9. 69\n",
       "10. 12\n",
       "11. 6\n",
       "12. 87\n",
       "13. 9\n",
       "14. 99\n",
       "15. 33\n",
       "\n",
       "\n"
      ],
      "text/plain": [
       " [1]  4  2  4 66  4 25 76 87 69 12  6 87  9 99 33"
      ]
     },
     "metadata": {},
     "output_type": "display_data"
    },
    {
     "data": {
      "text/html": [
       "<ol class=list-inline>\n",
       "\t<li>2</li>\n",
       "\t<li>66</li>\n",
       "\t<li>25</li>\n",
       "\t<li>76</li>\n",
       "\t<li>87</li>\n",
       "\t<li>69</li>\n",
       "\t<li>12</li>\n",
       "\t<li>6</li>\n",
       "\t<li>87</li>\n",
       "\t<li>9</li>\n",
       "\t<li>99</li>\n",
       "\t<li>33</li>\n",
       "</ol>\n"
      ],
      "text/latex": [
       "\\begin{enumerate*}\n",
       "\\item 2\n",
       "\\item 66\n",
       "\\item 25\n",
       "\\item 76\n",
       "\\item 87\n",
       "\\item 69\n",
       "\\item 12\n",
       "\\item 6\n",
       "\\item 87\n",
       "\\item 9\n",
       "\\item 99\n",
       "\\item 33\n",
       "\\end{enumerate*}\n"
      ],
      "text/markdown": [
       "1. 2\n",
       "2. 66\n",
       "3. 25\n",
       "4. 76\n",
       "5. 87\n",
       "6. 69\n",
       "7. 12\n",
       "8. 6\n",
       "9. 87\n",
       "10. 9\n",
       "11. 99\n",
       "12. 33\n",
       "\n",
       "\n"
      ],
      "text/plain": [
       " [1]  2 66 25 76 87 69 12  6 87  9 99 33"
      ]
     },
     "metadata": {},
     "output_type": "display_data"
    }
   ],
   "source": [
    "#alcune manipolazioni sui vettori\n",
    "\n",
    "x\n",
    "x[16]<- 1\n",
    "x\n",
    "x[2]<- 0\n",
    "x\n",
    "x[1:3]<- c(1,2,3)\n",
    "x\n",
    "x[c(1,3,5)]<- c(4,4,4)\n",
    "x\n",
    "x<- x[-16]\n",
    "x\n",
    "x<- x[-c(1,3,5)]\n",
    "x"
   ]
  },
  {
   "cell_type": "code",
   "execution_count": 18,
   "metadata": {
    "collapsed": false
   },
   "outputs": [
    {
     "data": {
      "text/html": [
       "<ol class=list-inline>\n",
       "\t<li>27</li>\n",
       "\t<li>33</li>\n",
       "\t<li>54</li>\n",
       "\t<li>66</li>\n",
       "\t<li>22</li>\n",
       "\t<li>25</li>\n",
       "\t<li>76</li>\n",
       "\t<li>87</li>\n",
       "\t<li>69</li>\n",
       "\t<li>12</li>\n",
       "\t<li>6</li>\n",
       "\t<li>87</li>\n",
       "\t<li>9</li>\n",
       "\t<li>99</li>\n",
       "\t<li>33</li>\n",
       "</ol>\n"
      ],
      "text/latex": [
       "\\begin{enumerate*}\n",
       "\\item 27\n",
       "\\item 33\n",
       "\\item 54\n",
       "\\item 66\n",
       "\\item 22\n",
       "\\item 25\n",
       "\\item 76\n",
       "\\item 87\n",
       "\\item 69\n",
       "\\item 12\n",
       "\\item 6\n",
       "\\item 87\n",
       "\\item 9\n",
       "\\item 99\n",
       "\\item 33\n",
       "\\end{enumerate*}\n"
      ],
      "text/markdown": [
       "1. 27\n",
       "2. 33\n",
       "3. 54\n",
       "4. 66\n",
       "5. 22\n",
       "6. 25\n",
       "7. 76\n",
       "8. 87\n",
       "9. 69\n",
       "10. 12\n",
       "11. 6\n",
       "12. 87\n",
       "13. 9\n",
       "14. 99\n",
       "15. 33\n",
       "\n",
       "\n"
      ],
      "text/plain": [
       " [1] 27 33 54 66 22 25 76 87 69 12  6 87  9 99 33"
      ]
     },
     "metadata": {},
     "output_type": "display_data"
    },
    {
     "data": {
      "text/html": [
       "<ol class=list-inline>\n",
       "\t<li>1</li>\n",
       "\t<li>2</li>\n",
       "\t<li>3</li>\n",
       "\t<li>4</li>\n",
       "\t<li>5</li>\n",
       "\t<li>6</li>\n",
       "\t<li>7</li>\n",
       "\t<li>8</li>\n",
       "\t<li>9</li>\n",
       "\t<li>10</li>\n",
       "</ol>\n"
      ],
      "text/latex": [
       "\\begin{enumerate*}\n",
       "\\item 1\n",
       "\\item 2\n",
       "\\item 3\n",
       "\\item 4\n",
       "\\item 5\n",
       "\\item 6\n",
       "\\item 7\n",
       "\\item 8\n",
       "\\item 9\n",
       "\\item 10\n",
       "\\end{enumerate*}\n"
      ],
      "text/markdown": [
       "1. 1\n",
       "2. 2\n",
       "3. 3\n",
       "4. 4\n",
       "5. 5\n",
       "6. 6\n",
       "7. 7\n",
       "8. 8\n",
       "9. 9\n",
       "10. 10\n",
       "\n",
       "\n"
      ],
      "text/plain": [
       " [1]  1  2  3  4  5  6  7  8  9 10"
      ]
     },
     "metadata": {},
     "output_type": "display_data"
    },
    {
     "data": {
      "text/html": [
       "<ol class=list-inline>\n",
       "\t<li>27</li>\n",
       "\t<li>33</li>\n",
       "\t<li>54</li>\n",
       "\t<li>66</li>\n",
       "\t<li>22</li>\n",
       "\t<li>25</li>\n",
       "\t<li>76</li>\n",
       "\t<li>87</li>\n",
       "\t<li>69</li>\n",
       "\t<li>12</li>\n",
       "\t<li>6</li>\n",
       "\t<li>87</li>\n",
       "\t<li>9</li>\n",
       "\t<li>99</li>\n",
       "\t<li>33</li>\n",
       "\t<li>1</li>\n",
       "\t<li>2</li>\n",
       "\t<li>3</li>\n",
       "\t<li>4</li>\n",
       "\t<li>5</li>\n",
       "\t<li>6</li>\n",
       "\t<li>7</li>\n",
       "\t<li>8</li>\n",
       "\t<li>9</li>\n",
       "\t<li>10</li>\n",
       "</ol>\n"
      ],
      "text/latex": [
       "\\begin{enumerate*}\n",
       "\\item 27\n",
       "\\item 33\n",
       "\\item 54\n",
       "\\item 66\n",
       "\\item 22\n",
       "\\item 25\n",
       "\\item 76\n",
       "\\item 87\n",
       "\\item 69\n",
       "\\item 12\n",
       "\\item 6\n",
       "\\item 87\n",
       "\\item 9\n",
       "\\item 99\n",
       "\\item 33\n",
       "\\item 1\n",
       "\\item 2\n",
       "\\item 3\n",
       "\\item 4\n",
       "\\item 5\n",
       "\\item 6\n",
       "\\item 7\n",
       "\\item 8\n",
       "\\item 9\n",
       "\\item 10\n",
       "\\end{enumerate*}\n"
      ],
      "text/markdown": [
       "1. 27\n",
       "2. 33\n",
       "3. 54\n",
       "4. 66\n",
       "5. 22\n",
       "6. 25\n",
       "7. 76\n",
       "8. 87\n",
       "9. 69\n",
       "10. 12\n",
       "11. 6\n",
       "12. 87\n",
       "13. 9\n",
       "14. 99\n",
       "15. 33\n",
       "16. 1\n",
       "17. 2\n",
       "18. 3\n",
       "19. 4\n",
       "20. 5\n",
       "21. 6\n",
       "22. 7\n",
       "23. 8\n",
       "24. 9\n",
       "25. 10\n",
       "\n",
       "\n"
      ],
      "text/plain": [
       " [1] 27 33 54 66 22 25 76 87 69 12  6 87  9 99 33  1  2  3  4  5  6  7  8  9 10"
      ]
     },
     "metadata": {},
     "output_type": "display_data"
    }
   ],
   "source": [
    "#combinazione di più vettori\n",
    "\n",
    "x<- c(27,33,54,66,22,25,76,87,69,12,6,87,9,99,33)\n",
    "\n",
    "x\n",
    "\n",
    "y<- c(1,2,3,4,5,6,7,8,9,10)\n",
    "\n",
    "y\n",
    "\n",
    "c(x,y)\n"
   ]
  },
  {
   "cell_type": "markdown",
   "metadata": {},
   "source": [
    "+ **Matrici**\n",
    "\n",
    "sono oggetti costituiti da un quadro di valori numerici in cui sciascun elemento è individuaro da una coppia di indici $[j,i]$ che indicano indice di riga e di colonna."
   ]
  },
  {
   "cell_type": "code",
   "execution_count": 19,
   "metadata": {
    "collapsed": false
   },
   "outputs": [
    {
     "data": {
      "text/html": [
       "<table>\n",
       "<tbody>\n",
       "\t<tr><td>1 </td><td>3 </td><td>5 </td><td>7 </td><td> 9</td></tr>\n",
       "\t<tr><td>2 </td><td>4 </td><td>6 </td><td>8 </td><td>10</td></tr>\n",
       "</tbody>\n",
       "</table>\n"
      ],
      "text/latex": [
       "\\begin{tabular}{lllll}\n",
       "\t 1  & 3  & 5  & 7  &  9\\\\\n",
       "\t 2  & 4  & 6  & 8  & 10\\\\\n",
       "\\end{tabular}\n"
      ],
      "text/markdown": [
       "1. 1\n",
       "2. 2\n",
       "3. 3\n",
       "4. 4\n",
       "5. 5\n",
       "6. 6\n",
       "7. 7\n",
       "8. 8\n",
       "9. 9\n",
       "10. 10\n",
       "\n",
       "\n"
      ],
      "text/plain": [
       "     [,1] [,2] [,3] [,4] [,5]\n",
       "[1,] 1    3    5    7     9  \n",
       "[2,] 2    4    6    8    10  "
      ]
     },
     "metadata": {},
     "output_type": "display_data"
    },
    {
     "data": {
      "text/html": [
       "<table>\n",
       "<thead><tr><th scope=col>x</th><th scope=col>y</th></tr></thead>\n",
       "<tbody>\n",
       "\t<tr><td>1 </td><td>10</td></tr>\n",
       "\t<tr><td>2 </td><td>11</td></tr>\n",
       "\t<tr><td>3 </td><td>12</td></tr>\n",
       "\t<tr><td>4 </td><td>13</td></tr>\n",
       "\t<tr><td>5 </td><td>14</td></tr>\n",
       "\t<tr><td>6 </td><td>15</td></tr>\n",
       "\t<tr><td>7 </td><td>16</td></tr>\n",
       "\t<tr><td>8 </td><td>17</td></tr>\n",
       "\t<tr><td>9 </td><td>18</td></tr>\n",
       "</tbody>\n",
       "</table>\n"
      ],
      "text/latex": [
       "\\begin{tabular}{ll}\n",
       " x & y\\\\\n",
       "\\hline\n",
       "\t 1  & 10\\\\\n",
       "\t 2  & 11\\\\\n",
       "\t 3  & 12\\\\\n",
       "\t 4  & 13\\\\\n",
       "\t 5  & 14\\\\\n",
       "\t 6  & 15\\\\\n",
       "\t 7  & 16\\\\\n",
       "\t 8  & 17\\\\\n",
       "\t 9  & 18\\\\\n",
       "\\end{tabular}\n"
      ],
      "text/markdown": [
       "1. 1\n",
       "2. 2\n",
       "3. 3\n",
       "4. 4\n",
       "5. 5\n",
       "6. 6\n",
       "7. 7\n",
       "8. 8\n",
       "9. 9\n",
       "10. 10\n",
       "11. 11\n",
       "12. 12\n",
       "13. 13\n",
       "14. 14\n",
       "15. 15\n",
       "16. 16\n",
       "17. 17\n",
       "18. 18\n",
       "\n",
       "\n"
      ],
      "text/plain": [
       "      x y \n",
       " [1,] 1 10\n",
       " [2,] 2 11\n",
       " [3,] 3 12\n",
       " [4,] 4 13\n",
       " [5,] 5 14\n",
       " [6,] 6 15\n",
       " [7,] 7 16\n",
       " [8,] 8 17\n",
       " [9,] 9 18"
      ]
     },
     "metadata": {},
     "output_type": "display_data"
    },
    {
     "data": {
      "text/html": [
       "<table>\n",
       "<tbody>\n",
       "\t<tr><th scope=row>x</th><td> 1</td><td> 2</td><td> 3</td><td> 4</td><td> 5</td><td> 6</td><td> 7</td><td> 8</td><td> 9</td></tr>\n",
       "\t<tr><th scope=row>y</th><td>10</td><td>11</td><td>12</td><td>13</td><td>14</td><td>15</td><td>16</td><td>17</td><td>18</td></tr>\n",
       "</tbody>\n",
       "</table>\n"
      ],
      "text/latex": [
       "\\begin{tabular}{r|lllllllll}\n",
       "\tx &  1 &  2 &  3 &  4 &  5 &  6 &  7 &  8 &  9\\\\\n",
       "\ty & 10 & 11 & 12 & 13 & 14 & 15 & 16 & 17 & 18\\\\\n",
       "\\end{tabular}\n"
      ],
      "text/markdown": [
       "1. 1\n",
       "2. 10\n",
       "3. 2\n",
       "4. 11\n",
       "5. 3\n",
       "6. 12\n",
       "7. 4\n",
       "8. 13\n",
       "9. 5\n",
       "10. 14\n",
       "11. 6\n",
       "12. 15\n",
       "13. 7\n",
       "14. 16\n",
       "15. 8\n",
       "16. 17\n",
       "17. 9\n",
       "18. 18\n",
       "\n",
       "\n"
      ],
      "text/plain": [
       "  [,1] [,2] [,3] [,4] [,5] [,6] [,7] [,8] [,9]\n",
       "x  1    2    3    4    5    6    7    8    9  \n",
       "y 10   11   12   13   14   15   16   17   18  "
      ]
     },
     "metadata": {},
     "output_type": "display_data"
    }
   ],
   "source": [
    "#costruzione di una matrice \"z\" , \"x\" e \"y\" con funzioni diverse\n",
    "\n",
    "z<- matrix(1:10, ncol=5)\n",
    "\n",
    "z\n",
    "\n",
    "x<- c(1:9)\n",
    "y<- c(10:18)\n",
    "\n",
    "cbind(x,y)\n",
    "rbind(x,y)"
   ]
  },
  {
   "cell_type": "code",
   "execution_count": 20,
   "metadata": {
    "collapsed": false
   },
   "outputs": [
    {
     "data": {
      "text/html": [
       "<ol class=list-inline>\n",
       "\t<li>3</li>\n",
       "\t<li>4</li>\n",
       "</ol>\n"
      ],
      "text/latex": [
       "\\begin{enumerate*}\n",
       "\\item 3\n",
       "\\item 4\n",
       "\\end{enumerate*}\n"
      ],
      "text/markdown": [
       "1. 3\n",
       "2. 4\n",
       "\n",
       "\n"
      ],
      "text/plain": [
       "[1] 3 4"
      ]
     },
     "metadata": {},
     "output_type": "display_data"
    },
    {
     "data": {
      "text/html": [
       "<ol class=list-inline>\n",
       "\t<li>1</li>\n",
       "\t<li>3</li>\n",
       "\t<li>5</li>\n",
       "\t<li>7</li>\n",
       "\t<li>9</li>\n",
       "</ol>\n"
      ],
      "text/latex": [
       "\\begin{enumerate*}\n",
       "\\item 1\n",
       "\\item 3\n",
       "\\item 5\n",
       "\\item 7\n",
       "\\item 9\n",
       "\\end{enumerate*}\n"
      ],
      "text/markdown": [
       "1. 1\n",
       "2. 3\n",
       "3. 5\n",
       "4. 7\n",
       "5. 9\n",
       "\n",
       "\n"
      ],
      "text/plain": [
       "[1] 1 3 5 7 9"
      ]
     },
     "metadata": {},
     "output_type": "display_data"
    },
    {
     "data": {
      "text/html": [
       "10"
      ],
      "text/latex": [
       "10"
      ],
      "text/markdown": [
       "10"
      ],
      "text/plain": [
       "[1] 10"
      ]
     },
     "metadata": {},
     "output_type": "display_data"
    }
   ],
   "source": [
    "#estrazione di alcuni valori dalla matrice \"z\"\n",
    "\n",
    "z[,2]\n",
    "\n",
    "z[1,]\n",
    "\n",
    "z[2,5]"
   ]
  },
  {
   "cell_type": "markdown",
   "metadata": {},
   "source": [
    "+ **Array**\n",
    "\n",
    "\n",
    "sono oggetti simili alle matrici con una dimensione in più, infatti ogni elemento di un array è identificato con una terna di indici $[j,i,z]$. Praticamente sono oggetti costituiti da due o più matrici messe in sequenza."
   ]
  },
  {
   "cell_type": "code",
   "execution_count": 21,
   "metadata": {
    "collapsed": false
   },
   "outputs": [],
   "source": [
    "#costruzione di un array, sul quale valgono le stesse operazioni fatte con le matrici.\n",
    "\n",
    "w<- array(1:24, c(2,3,4))"
   ]
  },
  {
   "cell_type": "code",
   "execution_count": 22,
   "metadata": {
    "collapsed": false
   },
   "outputs": [
    {
     "data": {
      "text/html": [
       "'array'"
      ],
      "text/latex": [
       "'array'"
      ],
      "text/markdown": [
       "'array'"
      ],
      "text/plain": [
       "[1] \"array\""
      ]
     },
     "metadata": {},
     "output_type": "display_data"
    }
   ],
   "source": [
    "class(w)"
   ]
  },
  {
   "cell_type": "markdown",
   "metadata": {},
   "source": [
    "+ **Liste**\n",
    "\n",
    "sono un insieme ordinato di oggetti che possono essere di tipo diverso compreso altre liste"
   ]
  },
  {
   "cell_type": "code",
   "execution_count": 23,
   "metadata": {
    "collapsed": true
   },
   "outputs": [],
   "source": [
    "a<-list(1,2,3,\"d\",\"c\")\n",
    "b<-list(\"a\",\"f\")\n",
    "z<-list(a,b,4)"
   ]
  },
  {
   "cell_type": "code",
   "execution_count": 24,
   "metadata": {
    "collapsed": false
   },
   "outputs": [
    {
     "data": {
      "text/html": [
       "<ol>\n",
       "\t<li><ol>\n",
       "\t<li>1</li>\n",
       "\t<li>2</li>\n",
       "\t<li>3</li>\n",
       "\t<li>'d'</li>\n",
       "\t<li>'c'</li>\n",
       "</ol>\n",
       "</li>\n",
       "\t<li><ol>\n",
       "\t<li>'a'</li>\n",
       "\t<li>'f'</li>\n",
       "</ol>\n",
       "</li>\n",
       "\t<li>4</li>\n",
       "</ol>\n"
      ],
      "text/latex": [
       "\\begin{enumerate}\n",
       "\\item \\begin{enumerate}\n",
       "\\item 1\n",
       "\\item 2\n",
       "\\item 3\n",
       "\\item 'd'\n",
       "\\item 'c'\n",
       "\\end{enumerate}\n",
       "\n",
       "\\item \\begin{enumerate}\n",
       "\\item 'a'\n",
       "\\item 'f'\n",
       "\\end{enumerate}\n",
       "\n",
       "\\item 4\n",
       "\\end{enumerate}\n"
      ],
      "text/markdown": [
       "1. 1. 1\n",
       "2. 2\n",
       "3. 3\n",
       "4. 'd'\n",
       "5. 'c'\n",
       "\n",
       "\n",
       "\n",
       "2. 1. 'a'\n",
       "2. 'f'\n",
       "\n",
       "\n",
       "\n",
       "3. 4\n",
       "\n",
       "\n"
      ],
      "text/plain": [
       "[[1]]\n",
       "[[1]][[1]]\n",
       "[1] 1\n",
       "\n",
       "[[1]][[2]]\n",
       "[1] 2\n",
       "\n",
       "[[1]][[3]]\n",
       "[1] 3\n",
       "\n",
       "[[1]][[4]]\n",
       "[1] \"d\"\n",
       "\n",
       "[[1]][[5]]\n",
       "[1] \"c\"\n",
       "\n",
       "\n",
       "[[2]]\n",
       "[[2]][[1]]\n",
       "[1] \"a\"\n",
       "\n",
       "[[2]][[2]]\n",
       "[1] \"f\"\n",
       "\n",
       "\n",
       "[[3]]\n",
       "[1] 4\n"
      ]
     },
     "metadata": {},
     "output_type": "display_data"
    },
    {
     "data": {
      "text/html": [
       "'list'"
      ],
      "text/latex": [
       "'list'"
      ],
      "text/markdown": [
       "'list'"
      ],
      "text/plain": [
       "[1] \"list\""
      ]
     },
     "metadata": {},
     "output_type": "display_data"
    }
   ],
   "source": [
    "z\n",
    "class(z)"
   ]
  },
  {
   "cell_type": "code",
   "execution_count": 25,
   "metadata": {
    "collapsed": false
   },
   "outputs": [
    {
     "name": "stdout",
     "output_type": "stream",
     "text": [
      "List of 3\n",
      " $ :List of 5\n",
      "  ..$ : num 1\n",
      "  ..$ : num 2\n",
      "  ..$ : num 3\n",
      "  ..$ : chr \"d\"\n",
      "  ..$ : chr \"c\"\n",
      " $ :List of 2\n",
      "  ..$ : chr \"a\"\n",
      "  ..$ : chr \"f\"\n",
      " $ : num 4\n"
     ]
    }
   ],
   "source": [
    "str(z)"
   ]
  },
  {
   "cell_type": "markdown",
   "metadata": {},
   "source": [
    "+ **Dataframe**\n",
    "\n",
    "è un oggetto molto importante per l'analisi dei dati, infatti è uno degli oggetti più usati in statistica. Il dataframe non è altro che una matrice contenente dati etereogenei. Infatti può contenere sia vettori numerici sia di qualsiasi altro tipo come, carattere, logici, categoriali può contenere liste, fattori, matrici o altri dataframe."
   ]
  },
  {
   "cell_type": "code",
   "execution_count": 26,
   "metadata": {
    "collapsed": false
   },
   "outputs": [],
   "source": [
    "a<- c(1,2,3,4,5,6)\n",
    "b<- letters[seq(1:6)]\n",
    "c<- c(1,2,3,\"a\",\"b\",\"c\")\n",
    "d<- list(a,b,c,\"e\",\"y\",\"j\")"
   ]
  },
  {
   "cell_type": "code",
   "execution_count": 27,
   "metadata": {
    "collapsed": false
   },
   "outputs": [
    {
     "data": {
      "text/html": [
       "'numeric'"
      ],
      "text/latex": [
       "'numeric'"
      ],
      "text/markdown": [
       "'numeric'"
      ],
      "text/plain": [
       "[1] \"numeric\""
      ]
     },
     "metadata": {},
     "output_type": "display_data"
    },
    {
     "data": {
      "text/html": [
       "'character'"
      ],
      "text/latex": [
       "'character'"
      ],
      "text/markdown": [
       "'character'"
      ],
      "text/plain": [
       "[1] \"character\""
      ]
     },
     "metadata": {},
     "output_type": "display_data"
    },
    {
     "data": {
      "text/html": [
       "'character'"
      ],
      "text/latex": [
       "'character'"
      ],
      "text/markdown": [
       "'character'"
      ],
      "text/plain": [
       "[1] \"character\""
      ]
     },
     "metadata": {},
     "output_type": "display_data"
    },
    {
     "data": {
      "text/html": [
       "'list'"
      ],
      "text/latex": [
       "'list'"
      ],
      "text/markdown": [
       "'list'"
      ],
      "text/plain": [
       "[1] \"list\""
      ]
     },
     "metadata": {},
     "output_type": "display_data"
    }
   ],
   "source": [
    "class(a)\n",
    "class(b)\n",
    "class(c)\n",
    "class(d)"
   ]
  },
  {
   "cell_type": "code",
   "execution_count": 28,
   "metadata": {
    "collapsed": false
   },
   "outputs": [
    {
     "data": {
      "text/html": [
       "<table>\n",
       "<thead><tr><th scope=col>a</th><th scope=col>b</th><th scope=col>c</th><th scope=col>c.1..2..3..4..5..6.</th><th scope=col>c..a....b....c....d....e....f..</th><th scope=col>c..1....2....3....a....b....c..</th><th scope=col>X.e.</th><th scope=col>X.y.</th><th scope=col>X.j.</th></tr></thead>\n",
       "<tbody>\n",
       "\t<tr><td>1</td><td>a</td><td>1</td><td>1</td><td>a</td><td>1</td><td>e</td><td>y</td><td>j</td></tr>\n",
       "\t<tr><td>2</td><td>b</td><td>2</td><td>2</td><td>b</td><td>2</td><td>e</td><td>y</td><td>j</td></tr>\n",
       "\t<tr><td>3</td><td>c</td><td>3</td><td>3</td><td>c</td><td>3</td><td>e</td><td>y</td><td>j</td></tr>\n",
       "\t<tr><td>4</td><td>d</td><td>a</td><td>4</td><td>d</td><td>a</td><td>e</td><td>y</td><td>j</td></tr>\n",
       "\t<tr><td>5</td><td>e</td><td>b</td><td>5</td><td>e</td><td>b</td><td>e</td><td>y</td><td>j</td></tr>\n",
       "\t<tr><td>6</td><td>f</td><td>c</td><td>6</td><td>f</td><td>c</td><td>e</td><td>y</td><td>j</td></tr>\n",
       "</tbody>\n",
       "</table>\n"
      ],
      "text/latex": [
       "\\begin{tabular}{r|lllllllll}\n",
       " a & b & c & c.1..2..3..4..5..6. & c..a....b....c....d....e....f.. & c..1....2....3....a....b....c.. & X.e. & X.y. & X.j.\\\\\n",
       "\\hline\n",
       "\t 1 & a & 1 & 1 & a & 1 & e & y & j\\\\\n",
       "\t 2 & b & 2 & 2 & b & 2 & e & y & j\\\\\n",
       "\t 3 & c & 3 & 3 & c & 3 & e & y & j\\\\\n",
       "\t 4 & d & a & 4 & d & a & e & y & j\\\\\n",
       "\t 5 & e & b & 5 & e & b & e & y & j\\\\\n",
       "\t 6 & f & c & 6 & f & c & e & y & j\\\\\n",
       "\\end{tabular}\n"
      ],
      "text/plain": [
       "  a b c c.1..2..3..4..5..6. c..a....b....c....d....e....f..\n",
       "1 1 a 1 1                   a                              \n",
       "2 2 b 2 2                   b                              \n",
       "3 3 c 3 3                   c                              \n",
       "4 4 d a 4                   d                              \n",
       "5 5 e b 5                   e                              \n",
       "6 6 f c 6                   f                              \n",
       "  c..1....2....3....a....b....c.. X.e. X.y. X.j.\n",
       "1 1                               e    y    j   \n",
       "2 2                               e    y    j   \n",
       "3 3                               e    y    j   \n",
       "4 a                               e    y    j   \n",
       "5 b                               e    y    j   \n",
       "6 c                               e    y    j   "
      ]
     },
     "metadata": {},
     "output_type": "display_data"
    }
   ],
   "source": [
    "df<-data.frame(a,b,c,d)\n",
    "df"
   ]
  },
  {
   "cell_type": "code",
   "execution_count": 29,
   "metadata": {
    "collapsed": false
   },
   "outputs": [
    {
     "data": {
      "text/html": [
       "<ol class=list-inline>\n",
       "\t<li>'a'</li>\n",
       "\t<li>'b'</li>\n",
       "\t<li>'c'</li>\n",
       "\t<li>'c.1..2..3..4..5..6.'</li>\n",
       "\t<li>'c..a....b....c....d....e....f..'</li>\n",
       "\t<li>'c..1....2....3....a....b....c..'</li>\n",
       "\t<li>'X.e.'</li>\n",
       "\t<li>'X.y.'</li>\n",
       "\t<li>'X.j.'</li>\n",
       "</ol>\n"
      ],
      "text/latex": [
       "\\begin{enumerate*}\n",
       "\\item 'a'\n",
       "\\item 'b'\n",
       "\\item 'c'\n",
       "\\item 'c.1..2..3..4..5..6.'\n",
       "\\item 'c..a....b....c....d....e....f..'\n",
       "\\item 'c..1....2....3....a....b....c..'\n",
       "\\item 'X.e.'\n",
       "\\item 'X.y.'\n",
       "\\item 'X.j.'\n",
       "\\end{enumerate*}\n"
      ],
      "text/markdown": [
       "1. 'a'\n",
       "2. 'b'\n",
       "3. 'c'\n",
       "4. 'c.1..2..3..4..5..6.'\n",
       "5. 'c..a....b....c....d....e....f..'\n",
       "6. 'c..1....2....3....a....b....c..'\n",
       "7. 'X.e.'\n",
       "8. 'X.y.'\n",
       "9. 'X.j.'\n",
       "\n",
       "\n"
      ],
      "text/plain": [
       "[1] \"a\"                               \"b\"                              \n",
       "[3] \"c\"                               \"c.1..2..3..4..5..6.\"            \n",
       "[5] \"c..a....b....c....d....e....f..\" \"c..1....2....3....a....b....c..\"\n",
       "[7] \"X.e.\"                            \"X.y.\"                           \n",
       "[9] \"X.j.\"                           "
      ]
     },
     "metadata": {},
     "output_type": "display_data"
    }
   ],
   "source": [
    "names(df)"
   ]
  },
  {
   "cell_type": "code",
   "execution_count": 30,
   "metadata": {
    "collapsed": false
   },
   "outputs": [],
   "source": [
    "names(df)<-c(\"a\", \"b\", \"c\", \"d\", \"e\", \"f\", \"g\", \"h\", \"i\")"
   ]
  },
  {
   "cell_type": "code",
   "execution_count": 31,
   "metadata": {
    "collapsed": false
   },
   "outputs": [
    {
     "data": {
      "text/html": [
       "'data.frame'"
      ],
      "text/latex": [
       "'data.frame'"
      ],
      "text/markdown": [
       "'data.frame'"
      ],
      "text/plain": [
       "[1] \"data.frame\""
      ]
     },
     "metadata": {},
     "output_type": "display_data"
    }
   ],
   "source": [
    "class(df)"
   ]
  },
  {
   "cell_type": "code",
   "execution_count": 32,
   "metadata": {
    "collapsed": false
   },
   "outputs": [
    {
     "name": "stdout",
     "output_type": "stream",
     "text": [
      "'data.frame':\t6 obs. of  9 variables:\n",
      " $ a: num  1 2 3 4 5 6\n",
      " $ b: Factor w/ 6 levels \"a\",\"b\",\"c\",\"d\",..: 1 2 3 4 5 6\n",
      " $ c: Factor w/ 6 levels \"1\",\"2\",\"3\",\"a\",..: 1 2 3 4 5 6\n",
      " $ d: num  1 2 3 4 5 6\n",
      " $ e: Factor w/ 6 levels \"a\",\"b\",\"c\",\"d\",..: 1 2 3 4 5 6\n",
      " $ f: Factor w/ 6 levels \"1\",\"2\",\"3\",\"a\",..: 1 2 3 4 5 6\n",
      " $ g: Factor w/ 1 level \"e\": 1 1 1 1 1 1\n",
      " $ h: Factor w/ 1 level \"y\": 1 1 1 1 1 1\n",
      " $ i: Factor w/ 1 level \"j\": 1 1 1 1 1 1\n"
     ]
    }
   ],
   "source": [
    "str(df)"
   ]
  },
  {
   "cell_type": "code",
   "execution_count": 33,
   "metadata": {
    "collapsed": false
   },
   "outputs": [
    {
     "data": {
      "text/html": [
       "<table>\n",
       "<thead><tr><th scope=col>V.1</th><th scope=col>V.2</th><th scope=col>V.3</th><th scope=col>V.4</th><th scope=col>V.5</th><th scope=col>V.6</th><th scope=col>V.7</th><th scope=col>V.8</th><th scope=col>V.9</th></tr></thead>\n",
       "<tbody>\n",
       "\t<tr><td>1</td><td>a</td><td>1</td><td>1</td><td>a</td><td>1</td><td>e</td><td>y</td><td>j</td></tr>\n",
       "\t<tr><td>2</td><td>b</td><td>2</td><td>2</td><td>b</td><td>2</td><td>e</td><td>y</td><td>j</td></tr>\n",
       "\t<tr><td>3</td><td>c</td><td>3</td><td>3</td><td>c</td><td>3</td><td>e</td><td>y</td><td>j</td></tr>\n",
       "\t<tr><td>4</td><td>d</td><td>a</td><td>4</td><td>d</td><td>a</td><td>e</td><td>y</td><td>j</td></tr>\n",
       "\t<tr><td>5</td><td>e</td><td>b</td><td>5</td><td>e</td><td>b</td><td>e</td><td>y</td><td>j</td></tr>\n",
       "\t<tr><td>6</td><td>f</td><td>c</td><td>6</td><td>f</td><td>c</td><td>e</td><td>y</td><td>j</td></tr>\n",
       "</tbody>\n",
       "</table>\n"
      ],
      "text/latex": [
       "\\begin{tabular}{r|lllllllll}\n",
       " V.1 & V.2 & V.3 & V.4 & V.5 & V.6 & V.7 & V.8 & V.9\\\\\n",
       "\\hline\n",
       "\t 1 & a & 1 & 1 & a & 1 & e & y & j\\\\\n",
       "\t 2 & b & 2 & 2 & b & 2 & e & y & j\\\\\n",
       "\t 3 & c & 3 & 3 & c & 3 & e & y & j\\\\\n",
       "\t 4 & d & a & 4 & d & a & e & y & j\\\\\n",
       "\t 5 & e & b & 5 & e & b & e & y & j\\\\\n",
       "\t 6 & f & c & 6 & f & c & e & y & j\\\\\n",
       "\\end{tabular}\n"
      ],
      "text/plain": [
       "  V.1 V.2 V.3 V.4 V.5 V.6 V.7 V.8 V.9\n",
       "1 1   a   1   1   a   1   e   y   j  \n",
       "2 2   b   2   2   b   2   e   y   j  \n",
       "3 3   c   3   3   c   3   e   y   j  \n",
       "4 4   d   a   4   d   a   e   y   j  \n",
       "5 5   e   b   5   e   b   e   y   j  \n",
       "6 6   f   c   6   f   c   e   y   j  "
      ]
     },
     "metadata": {},
     "output_type": "display_data"
    }
   ],
   "source": [
    "names(df)<-c(\"V.1\",\"V.2\",\"V.3\",\"V.4\",\"V.5\",\"V.6\",\"V.7\",\"V.8\",\"V.9\")\n",
    "\n",
    "df"
   ]
  },
  {
   "cell_type": "code",
   "execution_count": 34,
   "metadata": {
    "collapsed": false
   },
   "outputs": [
    {
     "data": {
      "text/html": [
       "a"
      ],
      "text/latex": [
       "a"
      ],
      "text/markdown": [
       "a"
      ],
      "text/plain": [
       "[1] a\n",
       "Levels: a b c d e f"
      ]
     },
     "metadata": {},
     "output_type": "display_data"
    },
    {
     "data": {
      "text/html": [
       "<table>\n",
       "<thead><tr><th scope=col>V.1</th><th scope=col>V.2</th><th scope=col>V.3</th><th scope=col>V.4</th><th scope=col>V.5</th><th scope=col>V.6</th><th scope=col>V.7</th><th scope=col>V.8</th><th scope=col>V.9</th></tr></thead>\n",
       "<tbody>\n",
       "\t<tr><td>1</td><td>a</td><td>1</td><td>1</td><td>a</td><td>1</td><td>e</td><td>y</td><td>j</td></tr>\n",
       "</tbody>\n",
       "</table>\n"
      ],
      "text/latex": [
       "\\begin{tabular}{r|lllllllll}\n",
       " V.1 & V.2 & V.3 & V.4 & V.5 & V.6 & V.7 & V.8 & V.9\\\\\n",
       "\\hline\n",
       "\t 1 & a & 1 & 1 & a & 1 & e & y & j\\\\\n",
       "\\end{tabular}\n"
      ],
      "text/plain": [
       "  V.1 V.2 V.3 V.4 V.5 V.6 V.7 V.8 V.9\n",
       "1 1   a   1   1   a   1   e   y   j  "
      ]
     },
     "metadata": {},
     "output_type": "display_data"
    }
   ],
   "source": [
    "df[1,2]\n",
    "df[1,]"
   ]
  },
  {
   "cell_type": "markdown",
   "metadata": {
    "collapsed": true
   },
   "source": [
    "### 4.1 Esempi di elaborazione dati"
   ]
  },
  {
   "cell_type": "markdown",
   "metadata": {},
   "source": [
    "+ ***Semplice analisi dei dati di Ozono in atmosfera***"
   ]
  },
  {
   "cell_type": "markdown",
   "metadata": {
    "collapsed": true
   },
   "source": [
    "Carico il dataset d'interesse, in questo caso il dataset è interno ad R e si chiama \"airquality\" "
   ]
  },
  {
   "cell_type": "code",
   "execution_count": 35,
   "metadata": {
    "collapsed": true
   },
   "outputs": [],
   "source": [
    "data(airquality)"
   ]
  },
  {
   "cell_type": "code",
   "execution_count": 36,
   "metadata": {
    "collapsed": false
   },
   "outputs": [
    {
     "data": {
      "text/html": [
       "'data.frame'"
      ],
      "text/latex": [
       "'data.frame'"
      ],
      "text/markdown": [
       "'data.frame'"
      ],
      "text/plain": [
       "[1] \"data.frame\""
      ]
     },
     "metadata": {},
     "output_type": "display_data"
    }
   ],
   "source": [
    "class(airquality)"
   ]
  },
  {
   "cell_type": "code",
   "execution_count": 37,
   "metadata": {
    "collapsed": false
   },
   "outputs": [
    {
     "name": "stdout",
     "output_type": "stream",
     "text": [
      "'data.frame':\t153 obs. of  6 variables:\n",
      " $ Ozone  : int  41 36 12 18 NA 28 23 19 8 NA ...\n",
      " $ Solar.R: int  190 118 149 313 NA NA 299 99 19 194 ...\n",
      " $ Wind   : num  7.4 8 12.6 11.5 14.3 14.9 8.6 13.8 20.1 8.6 ...\n",
      " $ Temp   : int  67 72 74 62 56 66 65 59 61 69 ...\n",
      " $ Month  : int  5 5 5 5 5 5 5 5 5 5 ...\n",
      " $ Day    : int  1 2 3 4 5 6 7 8 9 10 ...\n"
     ]
    }
   ],
   "source": [
    "str(airquality)"
   ]
  },
  {
   "cell_type": "code",
   "execution_count": 38,
   "metadata": {
    "collapsed": false
   },
   "outputs": [
    {
     "data": {
      "text/plain": [
       "     Ozone           Solar.R           Wind             Temp      \n",
       " Min.   :  1.00   Min.   :  7.0   Min.   : 1.700   Min.   :56.00  \n",
       " 1st Qu.: 18.00   1st Qu.:115.8   1st Qu.: 7.400   1st Qu.:72.00  \n",
       " Median : 31.50   Median :205.0   Median : 9.700   Median :79.00  \n",
       " Mean   : 42.13   Mean   :185.9   Mean   : 9.958   Mean   :77.88  \n",
       " 3rd Qu.: 63.25   3rd Qu.:258.8   3rd Qu.:11.500   3rd Qu.:85.00  \n",
       " Max.   :168.00   Max.   :334.0   Max.   :20.700   Max.   :97.00  \n",
       " NA's   :37       NA's   :7                                       \n",
       "     Month            Day      \n",
       " Min.   :5.000   Min.   : 1.0  \n",
       " 1st Qu.:6.000   1st Qu.: 8.0  \n",
       " Median :7.000   Median :16.0  \n",
       " Mean   :6.993   Mean   :15.8  \n",
       " 3rd Qu.:8.000   3rd Qu.:23.0  \n",
       " Max.   :9.000   Max.   :31.0  \n",
       "                               "
      ]
     },
     "metadata": {},
     "output_type": "display_data"
    }
   ],
   "source": [
    "summary(airquality)"
   ]
  },
  {
   "cell_type": "code",
   "execution_count": 39,
   "metadata": {
    "collapsed": false
   },
   "outputs": [
    {
     "data": {
      "image/png": "[encoded data removed]",
      "text/plain": [
       "Plot with title “Concentrazione di Ozono in atmosfera”"
      ]
     },
     "metadata": {},
     "output_type": "display_data"
    }
   ],
   "source": [
    "plot(airquality$Ozone, type=\"l\", col=\"blue\", main=\"Concentrazione di Ozono in atmosfera\", ylab=\"ug/mc\")\n",
    "axis(side=4, )\n",
    "mtext(side = 4, line = 1.3, '°F')\n",
    "lines(airquality$Temp, type=\"l\", col=\"red\")\n"
   ]
  },
  {
   "cell_type": "code",
   "execution_count": 40,
   "metadata": {
    "collapsed": false
   },
   "outputs": [
    {
     "name": "stdout",
     "output_type": "stream",
     "text": [
      "    Ozone Solar.R Wind Temp Month Day\n",
      "1      41     190  7.4   67     5   1\n",
      "2      36     118  8.0   72     5   2\n",
      "3      12     149 12.6   74     5   3\n",
      "4      18     313 11.5   62     5   4\n",
      "5      NA      NA 14.3   56     5   5\n",
      "6      28      NA 14.9   66     5   6\n",
      "7      23     299  8.6   65     5   7\n",
      "8      19      99 13.8   59     5   8\n",
      "9       8      19 20.1   61     5   9\n",
      "10     NA     194  8.6   69     5  10\n",
      "11      7      NA  6.9   74     5  11\n",
      "12     16     256  9.7   69     5  12\n",
      "13     11     290  9.2   66     5  13\n",
      "14     14     274 10.9   68     5  14\n",
      "15     18      65 13.2   58     5  15\n",
      "16     14     334 11.5   64     5  16\n",
      "17     34     307 12.0   66     5  17\n",
      "18      6      78 18.4   57     5  18\n",
      "19     30     322 11.5   68     5  19\n",
      "20     11      44  9.7   62     5  20\n",
      "21      1       8  9.7   59     5  21\n",
      "22     11     320 16.6   73     5  22\n",
      "23      4      25  9.7   61     5  23\n",
      "24     32      92 12.0   61     5  24\n",
      "25     NA      66 16.6   57     5  25\n",
      "26     NA     266 14.9   58     5  26\n",
      "27     NA      NA  8.0   57     5  27\n",
      "28     23      13 12.0   67     5  28\n",
      "29     45     252 14.9   81     5  29\n",
      "30    115     223  5.7   79     5  30\n",
      "31     37     279  7.4   76     5  31\n",
      "32     NA     286  8.6   78     6   1\n",
      "33     NA     287  9.7   74     6   2\n",
      "34     NA     242 16.1   67     6   3\n",
      "35     NA     186  9.2   84     6   4\n",
      "36     NA     220  8.6   85     6   5\n",
      "37     NA     264 14.3   79     6   6\n",
      "38     29     127  9.7   82     6   7\n",
      "39     NA     273  6.9   87     6   8\n",
      "40     71     291 13.8   90     6   9\n",
      "41     39     323 11.5   87     6  10\n",
      "42     NA     259 10.9   93     6  11\n",
      "43     NA     250  9.2   92     6  12\n",
      "44     23     148  8.0   82     6  13\n",
      "45     NA     332 13.8   80     6  14\n",
      "46     NA     322 11.5   79     6  15\n",
      "47     21     191 14.9   77     6  16\n",
      "48     37     284 20.7   72     6  17\n",
      "49     20      37  9.2   65     6  18\n",
      "50     12     120 11.5   73     6  19\n",
      "51     13     137 10.3   76     6  20\n",
      "52     NA     150  6.3   77     6  21\n",
      "53     NA      59  1.7   76     6  22\n",
      "54     NA      91  4.6   76     6  23\n",
      "55     NA     250  6.3   76     6  24\n",
      "56     NA     135  8.0   75     6  25\n",
      "57     NA     127  8.0   78     6  26\n",
      "58     NA      47 10.3   73     6  27\n",
      "59     NA      98 11.5   80     6  28\n",
      "60     NA      31 14.9   77     6  29\n",
      "61     NA     138  8.0   83     6  30\n",
      "62    135     269  4.1   84     7   1\n",
      "63     49     248  9.2   85     7   2\n",
      "64     32     236  9.2   81     7   3\n",
      "65     NA     101 10.9   84     7   4\n",
      "66     64     175  4.6   83     7   5\n",
      "67     40     314 10.9   83     7   6\n",
      "68     77     276  5.1   88     7   7\n",
      "69     97     267  6.3   92     7   8\n",
      "70     97     272  5.7   92     7   9\n",
      "71     85     175  7.4   89     7  10\n",
      "72     NA     139  8.6   82     7  11\n",
      "73     10     264 14.3   73     7  12\n",
      "74     27     175 14.9   81     7  13\n",
      "75     NA     291 14.9   91     7  14\n",
      "76      7      48 14.3   80     7  15\n",
      "77     48     260  6.9   81     7  16\n",
      "78     35     274 10.3   82     7  17\n",
      "79     61     285  6.3   84     7  18\n",
      "80     79     187  5.1   87     7  19\n",
      "81     63     220 11.5   85     7  20\n",
      "82     16       7  6.9   74     7  21\n",
      "83     NA     258  9.7   81     7  22\n",
      "84     NA     295 11.5   82     7  23\n",
      "85     80     294  8.6   86     7  24\n",
      "86    108     223  8.0   85     7  25\n",
      "87     20      81  8.6   82     7  26\n",
      "88     52      82 12.0   86     7  27\n",
      "89     82     213  7.4   88     7  28\n",
      "90     50     275  7.4   86     7  29\n",
      "91     64     253  7.4   83     7  30\n",
      "92     59     254  9.2   81     7  31\n",
      "93     39      83  6.9   81     8   1\n",
      "94      9      24 13.8   81     8   2\n",
      "95     16      77  7.4   82     8   3\n",
      "96     78      NA  6.9   86     8   4\n",
      "97     35      NA  7.4   85     8   5\n",
      "98     66      NA  4.6   87     8   6\n",
      "99    122     255  4.0   89     8   7\n",
      "100    89     229 10.3   90     8   8\n",
      "101   110     207  8.0   90     8   9\n",
      "102    NA     222  8.6   92     8  10\n",
      "103    NA     137 11.5   86     8  11\n",
      "104    44     192 11.5   86     8  12\n",
      "105    28     273 11.5   82     8  13\n",
      "106    65     157  9.7   80     8  14\n",
      "107    NA      64 11.5   79     8  15\n",
      "108    22      71 10.3   77     8  16\n",
      "109    59      51  6.3   79     8  17\n",
      "110    23     115  7.4   76     8  18\n",
      "111    31     244 10.9   78     8  19\n",
      "112    44     190 10.3   78     8  20\n",
      "113    21     259 15.5   77     8  21\n",
      "114     9      36 14.3   72     8  22\n",
      "115    NA     255 12.6   75     8  23\n",
      "116    45     212  9.7   79     8  24\n",
      "117   168     238  3.4   81     8  25\n",
      "118    73     215  8.0   86     8  26\n",
      "119    NA     153  5.7   88     8  27\n",
      "120    76     203  9.7   97     8  28\n",
      "121   118     225  2.3   94     8  29\n",
      "122    84     237  6.3   96     8  30\n",
      "123    85     188  6.3   94     8  31\n",
      "124    96     167  6.9   91     9   1\n",
      "125    78     197  5.1   92     9   2\n",
      "126    73     183  2.8   93     9   3\n",
      "127    91     189  4.6   93     9   4\n",
      "128    47      95  7.4   87     9   5\n",
      "129    32      92 15.5   84     9   6\n",
      "130    20     252 10.9   80     9   7\n",
      "131    23     220 10.3   78     9   8\n",
      "132    21     230 10.9   75     9   9\n",
      "133    24     259  9.7   73     9  10\n",
      "134    44     236 14.9   81     9  11\n",
      "135    21     259 15.5   76     9  12\n",
      "136    28     238  6.3   77     9  13\n",
      "137     9      24 10.9   71     9  14\n",
      "138    13     112 11.5   71     9  15\n",
      "139    46     237  6.9   78     9  16\n",
      "140    18     224 13.8   67     9  17\n",
      "141    13      27 10.3   76     9  18\n",
      "142    24     238 10.3   68     9  19\n",
      "143    16     201  8.0   82     9  20\n",
      "144    13     238 12.6   64     9  21\n",
      "145    23      14  9.2   71     9  22\n",
      "146    36     139 10.3   81     9  23\n",
      "147     7      49 10.3   69     9  24\n",
      "148    14      20 16.6   63     9  25\n",
      "149    30     193  6.9   70     9  26\n",
      "150    NA     145 13.2   77     9  27\n",
      "151    14     191 14.3   75     9  28\n",
      "152    18     131  8.0   76     9  29\n",
      "153    20     223 11.5   68     9  30\n"
     ]
    }
   ],
   "source": [
    "show(airquality)"
   ]
  },
  {
   "cell_type": "code",
   "execution_count": 41,
   "metadata": {
    "collapsed": false
   },
   "outputs": [],
   "source": [
    "#trasformazione dei 5 livelli da numero a fattori e conseguente sostituzione con i mesi(stringhe)\n",
    "\n",
    "airquality$Month<-as.factor(airquality$Month)\n",
    "levels(airquality$Month)<-c(\"May\",\"June\",\"July\",\"August\",\"September\")"
   ]
  },
  {
   "cell_type": "code",
   "execution_count": 42,
   "metadata": {
    "collapsed": false
   },
   "outputs": [
    {
     "data": {
      "text/html": [
       "42.1293103448276"
      ],
      "text/latex": [
       "42.1293103448276"
      ],
      "text/markdown": [
       "42.1293103448276"
      ],
      "text/plain": [
       "[1] 42.12931"
      ]
     },
     "metadata": {},
     "output_type": "display_data"
    }
   ],
   "source": [
    "#Calcolo della media del periodo delle concentrazioni di Ozono\n",
    "\n",
    "mean(airquality$Ozone, na.rm=TRUE)"
   ]
  },
  {
   "cell_type": "code",
   "execution_count": 43,
   "metadata": {
    "collapsed": false
   },
   "outputs": [
    {
     "data": {
      "text/html": [
       "<dl class=dl-horizontal>\n",
       "\t<dt>May</dt>\n",
       "\t\t<dd>23.6153846153846</dd>\n",
       "\t<dt>June</dt>\n",
       "\t\t<dd>29.4444444444444</dd>\n",
       "\t<dt>July</dt>\n",
       "\t\t<dd>59.1153846153846</dd>\n",
       "\t<dt>August</dt>\n",
       "\t\t<dd>59.9615384615385</dd>\n",
       "\t<dt>September</dt>\n",
       "\t\t<dd>31.448275862069</dd>\n",
       "</dl>\n"
      ],
      "text/plain": [
       "      May      June      July    August September \n",
       " 23.61538  29.44444  59.11538  59.96154  31.44828 "
      ]
     },
     "metadata": {},
     "output_type": "display_data"
    }
   ],
   "source": [
    "#Calcolo della media mensile delle concentrazioni di ozono\n",
    "\n",
    "tapply(airquality$Ozone, airquality$Month, mean, na.rm=TRUE)\n"
   ]
  },
  {
   "cell_type": "code",
   "execution_count": 44,
   "metadata": {
    "collapsed": false
   },
   "outputs": [
    {
     "data": {
      "text/html": [
       "'array'"
      ],
      "text/latex": [
       "'array'"
      ],
      "text/markdown": [
       "'array'"
      ],
      "text/plain": [
       "[1] \"array\""
      ]
     },
     "metadata": {},
     "output_type": "display_data"
    },
    {
     "name": "stdout",
     "output_type": "stream",
     "text": [
      " num [1:5(1d)] 23.6 29.4 59.1 60 31.4\n",
      " - attr(*, \"dimnames\")=List of 1\n",
      "  ..$ : chr [1:5] \"May\" \"June\" \"July\" \"August\" ...\n"
     ]
    },
    {
     "data": {
      "image/png": "[encoded data removed]",
      "text/plain": [
       "Plot with title “Grafico delle concentrazioni mensili di ozono”"
      ]
     },
     "metadata": {},
     "output_type": "display_data"
    }
   ],
   "source": [
    "#Creazione del grafico delle medie mensili\n",
    "\n",
    "MonthMeanOzone<-tapply(airquality$Ozone, airquality$Month, mean, na.rm=TRUE)\n",
    "class(MonthMeanOzone)\n",
    "str(MonthMeanOzone)\n",
    "plot(MonthMeanOzone, type=\"l\", xaxt=\"n\", main=\"Grafico delle concentrazioni mensili di ozono\", col=\"red\",\n",
    "    ylab=\"Concentazione in ug/mc\")\n",
    "axis(side=1, at=1:5, labels=levels(airquality$Month))"
   ]
  },
  {
   "cell_type": "code",
   "execution_count": 45,
   "metadata": {
    "collapsed": false
   },
   "outputs": [
    {
     "data": {
      "text/html": [
       "'data.frame'"
      ],
      "text/latex": [
       "'data.frame'"
      ],
      "text/markdown": [
       "'data.frame'"
      ],
      "text/plain": [
       "[1] \"data.frame\""
      ]
     },
     "metadata": {},
     "output_type": "display_data"
    },
    {
     "name": "stdout",
     "output_type": "stream",
     "text": [
      "'data.frame':\t5 obs. of  2 variables:\n",
      " $ Var1: Factor w/ 5 levels \"May\",\"June\",\"July\",..: 1 2 3 4 5\n",
      " $ Freq: num  23.6 29.4 59.1 60 31.4\n",
      "       Var1     Freq\n",
      "1       May 23.61538\n",
      "2      June 29.44444\n",
      "3      July 59.11538\n",
      "4    August 59.96154\n",
      "5 September 31.44828\n"
     ]
    }
   ],
   "source": [
    "#Creazione di una tabella per l'esportazione come file csv\n",
    "\n",
    "TableMonthMeanOzone<-as.data.frame(as.table(MonthMeanOzone))\n",
    "#names(TableMonthMeanOzone)<-c(\"Month\",\"Ozone\")\n",
    "class(TableMonthMeanOzone)\n",
    "str(TableMonthMeanOzone)\n",
    "show(TableMonthMeanOzone)\n",
    "\n",
    "write.csv(TableMonthMeanOzone, \"TableMonthMeanOzone.csv\")"
   ]
  },
  {
   "cell_type": "code",
   "execution_count": 46,
   "metadata": {
    "collapsed": false
   },
   "outputs": [],
   "source": [
    "#cancellazione di tutti gli oggetti di R presenti nell'area di lavoro\n",
    "\n",
    "rm(list=ls())"
   ]
  },
  {
   "cell_type": "markdown",
   "metadata": {
    "collapsed": true
   },
   "source": [
    "### 4.2 Import/Export dataset, tabelle ed export grafici"
   ]
  },
  {
   "cell_type": "code",
   "execution_count": 47,
   "metadata": {
    "collapsed": false
   },
   "outputs": [
    {
     "data": {
      "text/html": [
       "<ol class=list-inline>\n",
       "\t<li>'dirDataset'</li>\n",
       "\t<li>'HCl'</li>\n",
       "</ol>\n"
      ],
      "text/latex": [
       "\\begin{enumerate*}\n",
       "\\item 'dirDataset'\n",
       "\\item 'HCl'\n",
       "\\end{enumerate*}\n"
      ],
      "text/markdown": [
       "1. 'dirDataset'\n",
       "2. 'HCl'\n",
       "\n",
       "\n"
      ],
      "text/plain": [
       "[1] \"dirDataset\" \"HCl\"       "
      ]
     },
     "metadata": {},
     "output_type": "display_data"
    }
   ],
   "source": [
    "dirDataset<-c(\"/media/pasquale/Volume/DocumentiPasquale/LavoroARPA/CorsoIntroR/dataset/datasetAlessandriaAsti/\")\n",
    "\n",
    "HCl<-read.csv(paste0(dirDataset,\"SM.A.MU.NUOVO.HCL_20160501000100_20160531235900.csv\"),\n",
    "             sep=\";\", dec=\",\")\n",
    "\n",
    "ls()"
   ]
  },
  {
   "cell_type": "code",
   "execution_count": 48,
   "metadata": {
    "collapsed": false
   },
   "outputs": [
    {
     "data": {
      "text/html": [
       "<table>\n",
       "<thead><tr><th scope=col>Data</th><th scope=col>Ora</th><th scope=col>μg.m3</th></tr></thead>\n",
       "<tbody>\n",
       "\t<tr><td>01/05/2016</td><td>00.01.00  </td><td>0.94      </td></tr>\n",
       "\t<tr><td>01/05/2016</td><td>00.01.52  </td><td>1.01      </td></tr>\n",
       "\t<tr><td>01/05/2016</td><td>00.02.52  </td><td>0.99      </td></tr>\n",
       "\t<tr><td>01/05/2016</td><td>00.03.52  </td><td>0.96      </td></tr>\n",
       "\t<tr><td>01/05/2016</td><td>00.04.52  </td><td>0.95      </td></tr>\n",
       "\t<tr><td>01/05/2016</td><td>00.05.52  </td><td>1.06      </td></tr>\n",
       "</tbody>\n",
       "</table>\n"
      ],
      "text/latex": [
       "\\begin{tabular}{r|lll}\n",
       " Data & Ora & μg.m3\\\\\n",
       "\\hline\n",
       "\t 01/05/2016 & 00.01.00   & 0.94      \\\\\n",
       "\t 01/05/2016 & 00.01.52   & 1.01      \\\\\n",
       "\t 01/05/2016 & 00.02.52   & 0.99      \\\\\n",
       "\t 01/05/2016 & 00.03.52   & 0.96      \\\\\n",
       "\t 01/05/2016 & 00.04.52   & 0.95      \\\\\n",
       "\t 01/05/2016 & 00.05.52   & 1.06      \\\\\n",
       "\\end{tabular}\n"
      ],
      "text/plain": [
       "  Data       Ora      μg.m3\n",
       "1 01/05/2016 00.01.00 0.94 \n",
       "2 01/05/2016 00.01.52 1.01 \n",
       "3 01/05/2016 00.02.52 0.99 \n",
       "4 01/05/2016 00.03.52 0.96 \n",
       "5 01/05/2016 00.04.52 0.95 \n",
       "6 01/05/2016 00.05.52 1.06 "
      ]
     },
     "metadata": {},
     "output_type": "display_data"
    }
   ],
   "source": [
    "head(HCl)"
   ]
  },
  {
   "cell_type": "markdown",
   "metadata": {},
   "source": [
    "Di seguito effettueremo delle manipolazioni sul dataset che lo renderanno fruibile ai fini di un'analisi"
   ]
  },
  {
   "cell_type": "code",
   "execution_count": null,
   "metadata": {
    "collapsed": false
   },
   "outputs": [],
   "source": [
    "#Carico librerie aggiuntive\n",
    "library(dplyr)     # manipolazione dati\n",
    "library(lubridate) # manipolazione date e ora\n",
    "\n",
    "#Sostituzione delle etichette delle colonne\n",
    "names(HCl)<-c(\"Data\", \"Ore\", \"Conc\")\n",
    "\n",
    "#Creazione unica colonna data ora \n",
    "HCl$Data<-paste(HCl$Data, HCl$Ore)\n",
    "HCl$Data<-as.POSIXct(HCl$Data, format=\"%d/%m/%Y %H.%M.%S\")\n",
    "\n",
    "#Aggiunta di colonne scorporando la data libreria lubridate\n",
    "HCl$Mese<- month(HCl$Data, label = TRUE)\n",
    "HCl$Giorno<- day(HCl$Data)\n",
    "HCl$GiornoW<- wday(HCl$Data, label = TRUE)\n",
    "HCl$Ora<- hour(HCl$Data)\n",
    "HCl$Minuti<- minute(HCl$Data)\n",
    "HCl$Secondi<- second(HCl$Data)"
   ]
  },
  {
   "cell_type": "code",
   "execution_count": 50,
   "metadata": {
    "collapsed": false
   },
   "outputs": [
    {
     "data": {
      "text/html": [
       "<table>\n",
       "<thead><tr><th scope=col>Data</th><th scope=col>Ore</th><th scope=col>Conc</th><th scope=col>Mese</th><th scope=col>Giorno</th><th scope=col>GiornoW</th><th scope=col>Ora</th><th scope=col>Minuti</th><th scope=col>Secondi</th></tr></thead>\n",
       "<tbody>\n",
       "\t<tr><td>2016-05-01 00:01:00</td><td>00.01.00           </td><td>0.94               </td><td>May                </td><td>1                  </td><td>Sun                </td><td>0                  </td><td>1                  </td><td> 0                 </td></tr>\n",
       "\t<tr><td>2016-05-01 00:01:52</td><td>00.01.52           </td><td>1.01               </td><td>May                </td><td>1                  </td><td>Sun                </td><td>0                  </td><td>1                  </td><td>52                 </td></tr>\n",
       "\t<tr><td>2016-05-01 00:02:52</td><td>00.02.52           </td><td>0.99               </td><td>May                </td><td>1                  </td><td>Sun                </td><td>0                  </td><td>2                  </td><td>52                 </td></tr>\n",
       "\t<tr><td>2016-05-01 00:03:52</td><td>00.03.52           </td><td>0.96               </td><td>May                </td><td>1                  </td><td>Sun                </td><td>0                  </td><td>3                  </td><td>52                 </td></tr>\n",
       "\t<tr><td>2016-05-01 00:04:52</td><td>00.04.52           </td><td>0.95               </td><td>May                </td><td>1                  </td><td>Sun                </td><td>0                  </td><td>4                  </td><td>52                 </td></tr>\n",
       "\t<tr><td>2016-05-01 00:05:52</td><td>00.05.52           </td><td>1.06               </td><td>May                </td><td>1                  </td><td>Sun                </td><td>0                  </td><td>5                  </td><td>52                 </td></tr>\n",
       "</tbody>\n",
       "</table>\n"
      ],
      "text/latex": [
       "\\begin{tabular}{r|lllllllll}\n",
       " Data & Ore & Conc & Mese & Giorno & GiornoW & Ora & Minuti & Secondi\\\\\n",
       "\\hline\n",
       "\t 2016-05-01 00:01:00 & 00.01.00            & 0.94                & May                 & 1                   & Sun                 & 0                   & 1                   &  0                 \\\\\n",
       "\t 2016-05-01 00:01:52 & 00.01.52            & 1.01                & May                 & 1                   & Sun                 & 0                   & 1                   & 52                 \\\\\n",
       "\t 2016-05-01 00:02:52 & 00.02.52            & 0.99                & May                 & 1                   & Sun                 & 0                   & 2                   & 52                 \\\\\n",
       "\t 2016-05-01 00:03:52 & 00.03.52            & 0.96                & May                 & 1                   & Sun                 & 0                   & 3                   & 52                 \\\\\n",
       "\t 2016-05-01 00:04:52 & 00.04.52            & 0.95                & May                 & 1                   & Sun                 & 0                   & 4                   & 52                 \\\\\n",
       "\t 2016-05-01 00:05:52 & 00.05.52            & 1.06                & May                 & 1                   & Sun                 & 0                   & 5                   & 52                 \\\\\n",
       "\\end{tabular}\n"
      ],
      "text/plain": [
       "  Data                Ore      Conc Mese Giorno GiornoW Ora Minuti Secondi\n",
       "1 2016-05-01 00:01:00 00.01.00 0.94 May  1      Sun     0   1       0     \n",
       "2 2016-05-01 00:01:52 00.01.52 1.01 May  1      Sun     0   1      52     \n",
       "3 2016-05-01 00:02:52 00.02.52 0.99 May  1      Sun     0   2      52     \n",
       "4 2016-05-01 00:03:52 00.03.52 0.96 May  1      Sun     0   3      52     \n",
       "5 2016-05-01 00:04:52 00.04.52 0.95 May  1      Sun     0   4      52     \n",
       "6 2016-05-01 00:05:52 00.05.52 1.06 May  1      Sun     0   5      52     "
      ]
     },
     "metadata": {},
     "output_type": "display_data"
    }
   ],
   "source": [
    "head(HCl)"
   ]
  },
  {
   "cell_type": "code",
   "execution_count": 51,
   "metadata": {
    "collapsed": false
   },
   "outputs": [
    {
     "data": {
      "text/html": [
       "<table>\n",
       "<thead><tr><th scope=col>Data</th><th scope=col>Conc</th><th scope=col>Mese</th><th scope=col>Giorno</th><th scope=col>GiornoW</th><th scope=col>Ora</th><th scope=col>Minuti</th><th scope=col>Secondi</th></tr></thead>\n",
       "<tbody>\n",
       "\t<tr><td>2016-05-01 00:01:00</td><td>0.94               </td><td>May                </td><td>1                  </td><td>Sun                </td><td>0                  </td><td>1                  </td><td> 0                 </td></tr>\n",
       "\t<tr><td>2016-05-01 00:01:52</td><td>1.01               </td><td>May                </td><td>1                  </td><td>Sun                </td><td>0                  </td><td>1                  </td><td>52                 </td></tr>\n",
       "\t<tr><td>2016-05-01 00:02:52</td><td>0.99               </td><td>May                </td><td>1                  </td><td>Sun                </td><td>0                  </td><td>2                  </td><td>52                 </td></tr>\n",
       "\t<tr><td>2016-05-01 00:03:52</td><td>0.96               </td><td>May                </td><td>1                  </td><td>Sun                </td><td>0                  </td><td>3                  </td><td>52                 </td></tr>\n",
       "\t<tr><td>2016-05-01 00:04:52</td><td>0.95               </td><td>May                </td><td>1                  </td><td>Sun                </td><td>0                  </td><td>4                  </td><td>52                 </td></tr>\n",
       "\t<tr><td>2016-05-01 00:05:52</td><td>1.06               </td><td>May                </td><td>1                  </td><td>Sun                </td><td>0                  </td><td>5                  </td><td>52                 </td></tr>\n",
       "</tbody>\n",
       "</table>\n"
      ],
      "text/latex": [
       "\\begin{tabular}{r|llllllll}\n",
       " Data & Conc & Mese & Giorno & GiornoW & Ora & Minuti & Secondi\\\\\n",
       "\\hline\n",
       "\t 2016-05-01 00:01:00 & 0.94                & May                 & 1                   & Sun                 & 0                   & 1                   &  0                 \\\\\n",
       "\t 2016-05-01 00:01:52 & 1.01                & May                 & 1                   & Sun                 & 0                   & 1                   & 52                 \\\\\n",
       "\t 2016-05-01 00:02:52 & 0.99                & May                 & 1                   & Sun                 & 0                   & 2                   & 52                 \\\\\n",
       "\t 2016-05-01 00:03:52 & 0.96                & May                 & 1                   & Sun                 & 0                   & 3                   & 52                 \\\\\n",
       "\t 2016-05-01 00:04:52 & 0.95                & May                 & 1                   & Sun                 & 0                   & 4                   & 52                 \\\\\n",
       "\t 2016-05-01 00:05:52 & 1.06                & May                 & 1                   & Sun                 & 0                   & 5                   & 52                 \\\\\n",
       "\\end{tabular}\n"
      ],
      "text/plain": [
       "  Data                Conc Mese Giorno GiornoW Ora Minuti Secondi\n",
       "1 2016-05-01 00:01:00 0.94 May  1      Sun     0   1       0     \n",
       "2 2016-05-01 00:01:52 1.01 May  1      Sun     0   1      52     \n",
       "3 2016-05-01 00:02:52 0.99 May  1      Sun     0   2      52     \n",
       "4 2016-05-01 00:03:52 0.96 May  1      Sun     0   3      52     \n",
       "5 2016-05-01 00:04:52 0.95 May  1      Sun     0   4      52     \n",
       "6 2016-05-01 00:05:52 1.06 May  1      Sun     0   5      52     "
      ]
     },
     "metadata": {},
     "output_type": "display_data"
    }
   ],
   "source": [
    "#Cancelliamo la colonna Ore dal dataframe\n",
    "\n",
    "HCl<-within(HCl, rm(Ore))\n",
    "head(HCl)"
   ]
  },
  {
   "cell_type": "code",
   "execution_count": 52,
   "metadata": {
    "collapsed": false
   },
   "outputs": [],
   "source": [
    "#Adesso esporteremo come file csv il dataset modificato\n",
    "\n",
    "write.csv(HCl, paste0(dirDataset,\"SM.A.MU.MODIFICATO.HCL_20160501000100_20160531235900.csv\"))\n",
    "#write.csv2(HCl, paste0(dirDataset,\"SM.A.MU.MODIFICATO.HCL_20160501000100_20160531235900.csv\"))\n",
    "#write.table(HCl, paste0(dirDataset,\"SM.A.MU.MODIFICATO.HCL_20160501000100_20160531235900.csv\"), sep=\";\", dec=\".\")"
   ]
  },
  {
   "cell_type": "code",
   "execution_count": 53,
   "metadata": {
    "collapsed": false
   },
   "outputs": [
    {
     "data": {
      "text/html": [
       "<ol class=list-inline>\n",
       "\t<li>'GiornoMedioHCl.csv'</li>\n",
       "\t<li>'maggio 2016.xlsx'</li>\n",
       "\t<li>'MediaGiornalieraHCl.csv'</li>\n",
       "\t<li>'MediaOrariaHCl.csv'</li>\n",
       "\t<li>'SM.A.MU.C2F4_20160501000100_20160531235900.csv'</li>\n",
       "\t<li>'SM.A.MU.MODIFICATO.HCL_20160501000100_20160531235900.csv'</li>\n",
       "\t<li>'SM.A.MU.NUOVO.HCL_20160501000100_20160531235900.csv'</li>\n",
       "\t<li>'SM.A.MU.NUOVO.HF_20160501000100_20160531235900.csv'</li>\n",
       "\t<li>'U__GRS158 ADDESTRAMENTO-2-5.doc'</li>\n",
       "</ol>\n"
      ],
      "text/latex": [
       "\\begin{enumerate*}\n",
       "\\item 'GiornoMedioHCl.csv'\n",
       "\\item 'maggio 2016.xlsx'\n",
       "\\item 'MediaGiornalieraHCl.csv'\n",
       "\\item 'MediaOrariaHCl.csv'\n",
       "\\item 'SM.A.MU.C2F4\\_20160501000100\\_20160531235900.csv'\n",
       "\\item 'SM.A.MU.MODIFICATO.HCL\\_20160501000100\\_20160531235900.csv'\n",
       "\\item 'SM.A.MU.NUOVO.HCL\\_20160501000100\\_20160531235900.csv'\n",
       "\\item 'SM.A.MU.NUOVO.HF\\_20160501000100\\_20160531235900.csv'\n",
       "\\item 'U\\_\\_GRS158 ADDESTRAMENTO-2-5.doc'\n",
       "\\end{enumerate*}\n"
      ],
      "text/markdown": [
       "1. 'GiornoMedioHCl.csv'\n",
       "2. 'maggio 2016.xlsx'\n",
       "3. 'MediaGiornalieraHCl.csv'\n",
       "4. 'MediaOrariaHCl.csv'\n",
       "5. 'SM.A.MU.C2F4_20160501000100_20160531235900.csv'\n",
       "6. 'SM.A.MU.MODIFICATO.HCL_20160501000100_20160531235900.csv'\n",
       "7. 'SM.A.MU.NUOVO.HCL_20160501000100_20160531235900.csv'\n",
       "8. 'SM.A.MU.NUOVO.HF_20160501000100_20160531235900.csv'\n",
       "9. 'U__GRS158 ADDESTRAMENTO-2-5.doc'\n",
       "\n",
       "\n"
      ],
      "text/plain": [
       "[1] \"GiornoMedioHCl.csv\"                                      \n",
       "[2] \"maggio 2016.xlsx\"                                        \n",
       "[3] \"MediaGiornalieraHCl.csv\"                                 \n",
       "[4] \"MediaOrariaHCl.csv\"                                      \n",
       "[5] \"SM.A.MU.C2F4_20160501000100_20160531235900.csv\"          \n",
       "[6] \"SM.A.MU.MODIFICATO.HCL_20160501000100_20160531235900.csv\"\n",
       "[7] \"SM.A.MU.NUOVO.HCL_20160501000100_20160531235900.csv\"     \n",
       "[8] \"SM.A.MU.NUOVO.HF_20160501000100_20160531235900.csv\"      \n",
       "[9] \"U__GRS158 ADDESTRAMENTO-2-5.doc\"                         "
      ]
     },
     "metadata": {},
     "output_type": "display_data"
    }
   ],
   "source": [
    "#dir(\"/media/pasquale/Volume/DocumentiPasquale/LavoroARPA/CorsoIntroR/dataset/datasetAlessandriaAsti/\")\n",
    "dir(dirDataset)"
   ]
  },
  {
   "cell_type": "code",
   "execution_count": 54,
   "metadata": {
    "collapsed": false
   },
   "outputs": [
    {
     "data": {
      "image/png": "[encoded data removed]",
      "text/plain": [
       "Plot with title “Grafico esplorativo dati grezzi HCl - Maggio 2016”"
      ]
     },
     "metadata": {},
     "output_type": "display_data"
    }
   ],
   "source": [
    "#Creazione ed esportazione di un grafico\n",
    "\n",
    "#png(height=500, width=800, filename=\"Rplot.png\")\n",
    "plot(HCl$Data,HCl$Conc, type = \"l\", col=\"red\", lwd=2, \n",
    "     main = \"Grafico esplorativo dati grezzi HCl - Maggio 2016\",\n",
    "     ylab = \"µg/m³\", xlab = \"\", sub = \"Numero di dati = 44544\")\n",
    "#dev.off()"
   ]
  },
  {
   "cell_type": "code",
   "execution_count": 56,
   "metadata": {
    "collapsed": false
   },
   "outputs": [
    {
     "data": {
      "text/html": [
       "<ol class=list-inline>\n",
       "\t<li>'esempio1.RData'</li>\n",
       "\t<li>'Immagini'</li>\n",
       "\t<li>'IntroRjnotebook.ipynb'</li>\n",
       "\t<li>'TableMonthMeanOzone.csv'</li>\n",
       "</ol>\n"
      ],
      "text/latex": [
       "\\begin{enumerate*}\n",
       "\\item 'esempio1.RData'\n",
       "\\item 'Immagini'\n",
       "\\item 'IntroRjnotebook.ipynb'\n",
       "\\item 'TableMonthMeanOzone.csv'\n",
       "\\end{enumerate*}\n"
      ],
      "text/markdown": [
       "1. 'esempio1.RData'\n",
       "2. 'Immagini'\n",
       "3. 'IntroRjnotebook.ipynb'\n",
       "4. 'TableMonthMeanOzone.csv'\n",
       "\n",
       "\n"
      ],
      "text/plain": [
       "[1] \"esempio1.RData\"          \"Immagini\"               \n",
       "[3] \"IntroRjnotebook.ipynb\"   \"TableMonthMeanOzone.csv\""
      ]
     },
     "metadata": {},
     "output_type": "display_data"
    }
   ],
   "source": [
    "dir()"
   ]
  }
 ],
 "metadata": {
  "kernelspec": {
   "display_name": "R",
   "language": "R",
   "name": "ir"
  },
  "language_info": {
   "codemirror_mode": "r",
   "file_extension": ".r",
   "mimetype": "text/x-r-source",
   "name": "R",
   "pygments_lexer": "r",
   "version": "3.2.4"
  }
 },
 "nbformat": 4,
 "nbformat_minor": 1
}
